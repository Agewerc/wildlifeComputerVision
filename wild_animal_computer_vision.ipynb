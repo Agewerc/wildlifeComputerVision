{
  "nbformat": 4,
  "nbformat_minor": 0,
  "metadata": {
    "colab": {
      "name": "wild_animal_computer_vision.ipynb",
      "provenance": [],
      "authorship_tag": "ABX9TyNj10NQcauE8i6uBOwurZ9i",
      "include_colab_link": true
    },
    "kernelspec": {
      "name": "python3",
      "display_name": "Python 3"
    },
    "widgets": {
      "application/vnd.jupyter.widget-state+json": {
        "a39f20df253446bda6d26130d460238c": {
          "model_module": "@jupyter-widgets/controls",
          "model_name": "HBoxModel",
          "state": {
            "_view_name": "HBoxView",
            "_dom_classes": [],
            "_model_name": "HBoxModel",
            "_view_module": "@jupyter-widgets/controls",
            "_model_module_version": "1.5.0",
            "_view_count": null,
            "_view_module_version": "1.5.0",
            "box_style": "",
            "layout": "IPY_MODEL_f776dc791f974fbeb9a0350d90704ab5",
            "_model_module": "@jupyter-widgets/controls",
            "children": [
              "IPY_MODEL_449613d712a647328ce25468237cf89a",
              "IPY_MODEL_9244ce226114417185a4ec771b5026d6"
            ]
          }
        },
        "f776dc791f974fbeb9a0350d90704ab5": {
          "model_module": "@jupyter-widgets/base",
          "model_name": "LayoutModel",
          "state": {
            "_view_name": "LayoutView",
            "grid_template_rows": null,
            "right": null,
            "justify_content": null,
            "_view_module": "@jupyter-widgets/base",
            "overflow": null,
            "_model_module_version": "1.2.0",
            "_view_count": null,
            "flex_flow": null,
            "width": null,
            "min_width": null,
            "border": null,
            "align_items": null,
            "bottom": null,
            "_model_module": "@jupyter-widgets/base",
            "top": null,
            "grid_column": null,
            "overflow_y": null,
            "overflow_x": null,
            "grid_auto_flow": null,
            "grid_area": null,
            "grid_template_columns": null,
            "flex": null,
            "_model_name": "LayoutModel",
            "justify_items": null,
            "grid_row": null,
            "max_height": null,
            "align_content": null,
            "visibility": null,
            "align_self": null,
            "height": null,
            "min_height": null,
            "padding": null,
            "grid_auto_rows": null,
            "grid_gap": null,
            "max_width": null,
            "order": null,
            "_view_module_version": "1.2.0",
            "grid_template_areas": null,
            "object_position": null,
            "object_fit": null,
            "grid_auto_columns": null,
            "margin": null,
            "display": null,
            "left": null
          }
        },
        "449613d712a647328ce25468237cf89a": {
          "model_module": "@jupyter-widgets/controls",
          "model_name": "FloatProgressModel",
          "state": {
            "_view_name": "ProgressView",
            "style": "IPY_MODEL_c9c383ee14e244cba2dcd2ee632d3cdd",
            "_dom_classes": [],
            "description": "100%",
            "_model_name": "FloatProgressModel",
            "bar_style": "success",
            "max": 553433881,
            "_view_module": "@jupyter-widgets/controls",
            "_model_module_version": "1.5.0",
            "value": 553433881,
            "_view_count": null,
            "_view_module_version": "1.5.0",
            "orientation": "horizontal",
            "min": 0,
            "description_tooltip": null,
            "_model_module": "@jupyter-widgets/controls",
            "layout": "IPY_MODEL_10fe21e7bcdb436ea1df4e7b17dacdaf"
          }
        },
        "9244ce226114417185a4ec771b5026d6": {
          "model_module": "@jupyter-widgets/controls",
          "model_name": "HTMLModel",
          "state": {
            "_view_name": "HTMLView",
            "style": "IPY_MODEL_10d39e2254e649a68534706556b8cce2",
            "_dom_classes": [],
            "description": "",
            "_model_name": "HTMLModel",
            "placeholder": "​",
            "_view_module": "@jupyter-widgets/controls",
            "_model_module_version": "1.5.0",
            "value": " 528M/528M [1:15:14&lt;00:00, 123kB/s]",
            "_view_count": null,
            "_view_module_version": "1.5.0",
            "description_tooltip": null,
            "_model_module": "@jupyter-widgets/controls",
            "layout": "IPY_MODEL_feeb7bfd06a34862a4b4cbe7250fe540"
          }
        },
        "c9c383ee14e244cba2dcd2ee632d3cdd": {
          "model_module": "@jupyter-widgets/controls",
          "model_name": "ProgressStyleModel",
          "state": {
            "_view_name": "StyleView",
            "_model_name": "ProgressStyleModel",
            "description_width": "initial",
            "_view_module": "@jupyter-widgets/base",
            "_model_module_version": "1.5.0",
            "_view_count": null,
            "_view_module_version": "1.2.0",
            "bar_color": null,
            "_model_module": "@jupyter-widgets/controls"
          }
        },
        "10fe21e7bcdb436ea1df4e7b17dacdaf": {
          "model_module": "@jupyter-widgets/base",
          "model_name": "LayoutModel",
          "state": {
            "_view_name": "LayoutView",
            "grid_template_rows": null,
            "right": null,
            "justify_content": null,
            "_view_module": "@jupyter-widgets/base",
            "overflow": null,
            "_model_module_version": "1.2.0",
            "_view_count": null,
            "flex_flow": null,
            "width": null,
            "min_width": null,
            "border": null,
            "align_items": null,
            "bottom": null,
            "_model_module": "@jupyter-widgets/base",
            "top": null,
            "grid_column": null,
            "overflow_y": null,
            "overflow_x": null,
            "grid_auto_flow": null,
            "grid_area": null,
            "grid_template_columns": null,
            "flex": null,
            "_model_name": "LayoutModel",
            "justify_items": null,
            "grid_row": null,
            "max_height": null,
            "align_content": null,
            "visibility": null,
            "align_self": null,
            "height": null,
            "min_height": null,
            "padding": null,
            "grid_auto_rows": null,
            "grid_gap": null,
            "max_width": null,
            "order": null,
            "_view_module_version": "1.2.0",
            "grid_template_areas": null,
            "object_position": null,
            "object_fit": null,
            "grid_auto_columns": null,
            "margin": null,
            "display": null,
            "left": null
          }
        },
        "10d39e2254e649a68534706556b8cce2": {
          "model_module": "@jupyter-widgets/controls",
          "model_name": "DescriptionStyleModel",
          "state": {
            "_view_name": "StyleView",
            "_model_name": "DescriptionStyleModel",
            "description_width": "",
            "_view_module": "@jupyter-widgets/base",
            "_model_module_version": "1.5.0",
            "_view_count": null,
            "_view_module_version": "1.2.0",
            "_model_module": "@jupyter-widgets/controls"
          }
        },
        "feeb7bfd06a34862a4b4cbe7250fe540": {
          "model_module": "@jupyter-widgets/base",
          "model_name": "LayoutModel",
          "state": {
            "_view_name": "LayoutView",
            "grid_template_rows": null,
            "right": null,
            "justify_content": null,
            "_view_module": "@jupyter-widgets/base",
            "overflow": null,
            "_model_module_version": "1.2.0",
            "_view_count": null,
            "flex_flow": null,
            "width": null,
            "min_width": null,
            "border": null,
            "align_items": null,
            "bottom": null,
            "_model_module": "@jupyter-widgets/base",
            "top": null,
            "grid_column": null,
            "overflow_y": null,
            "overflow_x": null,
            "grid_auto_flow": null,
            "grid_area": null,
            "grid_template_columns": null,
            "flex": null,
            "_model_name": "LayoutModel",
            "justify_items": null,
            "grid_row": null,
            "max_height": null,
            "align_content": null,
            "visibility": null,
            "align_self": null,
            "height": null,
            "min_height": null,
            "padding": null,
            "grid_auto_rows": null,
            "grid_gap": null,
            "max_width": null,
            "order": null,
            "_view_module_version": "1.2.0",
            "grid_template_areas": null,
            "object_position": null,
            "object_fit": null,
            "grid_auto_columns": null,
            "margin": null,
            "display": null,
            "left": null
          }
        }
      }
    }
  },
  "cells": [
    {
      "cell_type": "markdown",
      "metadata": {
        "id": "view-in-github",
        "colab_type": "text"
      },
      "source": [
        "<a href=\"https://colab.research.google.com/github/Agewerc/wildlifeComputerVision/blob/master/wild_animal_computer_vision.ipynb\" target=\"_parent\"><img src=\"https://colab.research.google.com/assets/colab-badge.svg\" alt=\"Open In Colab\"/></a>"
      ]
    },
    {
      "cell_type": "markdown",
      "metadata": {
        "id": "Y-RvWpNxb58L",
        "colab_type": "text"
      },
      "source": [
        "# Convolutional Neural Networks\n",
        "\n",
        "## Project: Write an Algorithm for a Wildlife Identification App \n",
        "\n",
        "---\n",
        "\n",
        "In this notebook, some template code has already been provided for you, and you will need to implement additional functionality to successfully complete this project. You will not need to modify the included code beyond what is requested. Sections that begin with **'(IMPLEMENTATION)'** in the header indicate that the following block of code will require additional functionality which you must provide. Instructions will be provided for each section, and the specifics of the implementation are marked in the code block with a 'TODO' statement. Please be sure to read the instructions carefully! \n",
        "\n",
        "> **Note**: Once you have completed all of the code implementations, you need to finalize your work by exporting the Jupyter Notebook as an HTML document. Before exporting the notebook to html, all of the code cells need to have been run so that reviewers can see the final implementation and output. You can then export the notebook by using the menu above and navigating to **File -> Download as -> HTML (.html)**. Include the finished document along with this notebook as your submission.\n",
        "\n",
        "In addition to implementing code, there will be questions that you must answer which relate to the project and your implementation. Each section where you will answer a question is preceded by a **'Question X'** header. Carefully read each question and provide thorough answers in the following text boxes that begin with **'Answer:'**. Your project submission will be evaluated based on your answers to each of the questions and the implementation you provide.\n",
        "\n",
        ">**Note:** Code and Markdown cells can be executed using the **Shift + Enter** keyboard shortcut.  Markdown cells can be edited by double-clicking the cell to enter edit mode.\n",
        "\n",
        "The rubric contains _optional_ \"Stand Out Suggestions\" for enhancing the project beyond the minimum requirements. If you decide to pursue the \"Stand Out Suggestions\", you should include the code in this Jupyter notebook.\n"
      ]
    },
    {
      "cell_type": "code",
      "metadata": {
        "id": "oJie-E1mbt03",
        "colab_type": "code",
        "colab": {
          "base_uri": "https://localhost:8080/",
          "height": 36
        },
        "outputId": "09e495c0-f67f-4b9c-d89f-7a0c6eeb3433"
      },
      "source": [
        "from google.colab import drive\n",
        "drive.mount('/content/gdrive')\n",
        "root_path = '/content/gdrive/My Drive/oregon_images'  #change dir to your project folder"
      ],
      "execution_count": null,
      "outputs": [
        {
          "output_type": "stream",
          "text": [
            "Drive already mounted at /content/gdrive; to attempt to forcibly remount, call drive.mount(\"/content/gdrive\", force_remount=True).\n"
          ],
          "name": "stdout"
        }
      ]
    },
    {
      "cell_type": "code",
      "metadata": {
        "id": "gmZHYAKWb23b",
        "colab_type": "code",
        "colab": {}
      },
      "source": [
        "import numpy as np\n",
        "from glob import glob\n",
        "\n",
        "# load filenames for human and dog images\n",
        "bald_eagle = np.array(glob(\"/content/gdrive/My Drive/oregon_images/train/bald_eagle/*\"))\n",
        "black_bear = np.array(glob(\"/content/gdrive/My Drive/oregon_images/train/black_bear/*\"))\n",
        "bob_cat = np.array(glob(\"/content/gdrive/My Drive/oregon_images/train/bobcat/*\"))\n",
        "canada_lynx = np.array(glob(\"/content/gdrive/My Drive/oregon_images/train/canada_lynx/*\"))\n",
        "columbian_black_tailed_deer = np.array(glob(\"/content/gdrive/My Drive/oregon_images/train/columbian_black_tailed_deer/*\"))\n",
        "cougar = np.array(glob(\"/content/gdrive/My Drive/oregon_images/train/cougar/*\"))\n",
        "coyote = np.array(glob(\"/content/gdrive/My Drive/oregon_images/train/coyote/*\"))\n",
        "deer = np.array(glob(\"/content/gdrive/My Drive/oregon_images/train/deer/*\"))\n",
        "elk = np.array(glob(\"/content/gdrive/My Drive/oregon_images/train/elk/*\"))\n",
        "gray_fox = np.array(glob(\"/content/gdrive/My Drive/oregon_images/train/gray_fox/*\"))\n",
        "gray_wolf = np.array(glob(\"/content/gdrive/My Drive/oregon_images/train/gray_wolf/*\"))\n",
        "mountain_beaver = np.array(glob(\"/content/gdrive/My Drive/oregon_images/train/mountain_beaver/*\"))\n",
        "nutria = np.array(glob(\"/content/gdrive/My Drive/oregon_images/train/nutria/*\"))\n",
        "raccoon = np.array(glob(\"/content/gdrive/My Drive/oregon_images/train/raccoon/*\"))\n",
        "raven = np.array(glob(\"/content/gdrive/My Drive/oregon_images/train/raven/*\"))\n",
        "red_fox = np.array(glob(\"/content/gdrive/My Drive/oregon_images/train/red_fox/*\"))\n",
        "ringtail = np.array(glob(\"/content/gdrive/My Drive/oregon_images/train/ringtail/*\"))\n",
        "seals = np.array(glob(\"/content/gdrive/My Drive/oregon_images/train/seals/*\"))\n",
        "virginia_opossum = np.array(glob(\"/content/gdrive/My Drive/oregon_images/train/virginia_opossum/*\"))"
      ],
      "execution_count": null,
      "outputs": []
    },
    {
      "cell_type": "code",
      "metadata": {
        "id": "OfputgDcb255",
        "colab_type": "code",
        "colab": {
          "base_uri": "https://localhost:8080/",
          "height": 372
        },
        "outputId": "78dd0108-1dbe-4c0e-9311-86fda2e6d8f4"
      },
      "source": [
        "# print number of images in each dataset\n",
        "print('There are %d total bald_eagle images.' % len(bald_eagle))\n",
        "print('There are %d total black_bear images.' % len(black_bear))\n",
        "print('There are %d total bob_cat images.' % len(bob_cat))\n",
        "print('There are %d total canada_linx images.' % len(canada_lynx))\n",
        "print('There are %d total columbian_black_tailed_deer images.' % len(columbian_black_tailed_deer))\n",
        "print('There are %d total cougar images.' % len(cougar))\n",
        "print('There are %d total coyote images.' % len(coyote))\n",
        "print('There are %d total deer images.' % len(deer))\n",
        "print('There are %d total elk images.' % len(elk))\n",
        "print('There are %d total gray_fox images.' % len(gray_fox))\n",
        "print('There are %d total gray_wolf images.' % len(gray_wolf))\n",
        "print('There are %d total mountain_beaver images.' % len(mountain_beaver))\n",
        "print('There are %d total nutria images.' % len(nutria))\n",
        "print('There are %d total raccoon images.' % len(raccoon))\n",
        "print('There are %d total raven images.' % len(raven))\n",
        "print('There are %d total red_fox images.' % len(red_fox))\n",
        "print('There are %d total ringtail images.' % len(ringtail))\n",
        "print('There are %d total seals images.' % len(seals))\n",
        "print('There are %d total virginia_opossum images.' % len(virginia_opossum))\n"
      ],
      "execution_count": null,
      "outputs": [
        {
          "output_type": "stream",
          "text": [
            "There are 637 total bald_eagle images.\n",
            "There are 611 total black_bear images.\n",
            "There are 593 total bob_cat images.\n",
            "There are 610 total canada_linx images.\n",
            "There are 626 total columbian_black_tailed_deer images.\n",
            "There are 579 total cougar images.\n",
            "There are 627 total coyote images.\n",
            "There are 650 total deer images.\n",
            "There are 562 total elk images.\n",
            "There are 577 total gray_fox images.\n",
            "There are 621 total gray_wolf images.\n",
            "There are 491 total mountain_beaver images.\n",
            "There are 597 total nutria images.\n",
            "There are 620 total raccoon images.\n",
            "There are 559 total raven images.\n",
            "There are 646 total red_fox images.\n",
            "There are 501 total ringtail images.\n",
            "There are 594 total seals images.\n",
            "There are 2596 total virginia_opossum images.\n"
          ],
          "name": "stdout"
        }
      ]
    },
    {
      "cell_type": "code",
      "metadata": {
        "id": "ZOesTvdYb28F",
        "colab_type": "code",
        "colab": {
          "base_uri": "https://localhost:8080/",
          "height": 86,
          "referenced_widgets": [
            "a39f20df253446bda6d26130d460238c",
            "f776dc791f974fbeb9a0350d90704ab5",
            "449613d712a647328ce25468237cf89a",
            "9244ce226114417185a4ec771b5026d6",
            "c9c383ee14e244cba2dcd2ee632d3cdd",
            "10fe21e7bcdb436ea1df4e7b17dacdaf",
            "10d39e2254e649a68534706556b8cce2",
            "feeb7bfd06a34862a4b4cbe7250fe540"
          ]
        },
        "outputId": "c1e3ef6f-b874-4d1e-8816-6dc2740a742e"
      },
      "source": [
        "import torch\n",
        "import torchvision.models as models\n",
        "\n",
        "# define VGG16 model\n",
        "VGG16 = models.vgg16(pretrained=True)\n",
        "\n",
        "# check if CUDA is available\n",
        "use_cuda = torch.cuda.is_available()\n",
        "\n",
        "# move model to GPU if CUDA is available\n",
        "if use_cuda:\n",
        "    VGG16 = VGG16.cuda()"
      ],
      "execution_count": null,
      "outputs": [
        {
          "output_type": "stream",
          "text": [
            "Downloading: \"https://download.pytorch.org/models/vgg16-397923af.pth\" to /root/.cache/torch/checkpoints/vgg16-397923af.pth\n"
          ],
          "name": "stderr"
        },
        {
          "output_type": "display_data",
          "data": {
            "application/vnd.jupyter.widget-view+json": {
              "model_id": "a39f20df253446bda6d26130d460238c",
              "version_minor": 0,
              "version_major": 2
            },
            "text/plain": [
              "HBox(children=(FloatProgress(value=0.0, max=553433881.0), HTML(value='')))"
            ]
          },
          "metadata": {
            "tags": []
          }
        },
        {
          "output_type": "stream",
          "text": [
            "\n"
          ],
          "name": "stdout"
        }
      ]
    },
    {
      "cell_type": "code",
      "metadata": {
        "id": "UZxPGuH733T-",
        "colab_type": "code",
        "colab": {}
      },
      "source": [
        "import shutil\n",
        "import os"
      ],
      "execution_count": null,
      "outputs": []
    },
    {
      "cell_type": "code",
      "metadata": {
        "id": "T-VcC7sq33aq",
        "colab_type": "code",
        "colab": {}
      },
      "source": [
        "species = ['black_bear', 'bobcat', 'canada_lynx', 'bald_eagle','columbian_black_tailed_deer', 'cougar', \n",
        "           'coyote', 'deer', 'elk', 'gray_fox', 'gray_wolf', 'mountain_beaver', 'nutria','raccoon','raven', \n",
        "           'red_fox', 'ringtail', 'seals', 'virginia_opossum']\n",
        "\n",
        "\n",
        "for s in species:\n",
        "\n",
        "  files_val = os.listdir(str(\"/content/gdrive/My Drive/oregon_images/validation/\" + s))\n",
        "  files_test = os.listdir(str(\"/content/gdrive/My Drive/oregon_images/test/\" + s))\n",
        "\n",
        "  for f in files_val:\n",
        "\n",
        "    source = str(\"/content/gdrive/My Drive/oregon_images/validation/\" + s + \"/\" + f)\n",
        "    destination = str(\"/content/gdrive/My Drive/oregon_images/train/\" + s + \"/\" + f)\n",
        "\n",
        "    shutil.move(source, destination)\n",
        "   \n",
        "  for f in files_test:\n",
        "\n",
        "    source = str(\"/content/gdrive/My Drive/oregon_images/test/\" + s + \"/\" + f)\n",
        "    destination = str(\"/content/gdrive/My Drive/oregon_images/train/\" + s + \"/\" + f)\n",
        "\n",
        "    shutil.move(source, destination)\n",
        "  "
      ],
      "execution_count": null,
      "outputs": []
    },
    {
      "cell_type": "code",
      "metadata": {
        "id": "JoOAjNEO8vdz",
        "colab_type": "code",
        "colab": {}
      },
      "source": [
        ""
      ],
      "execution_count": null,
      "outputs": []
    },
    {
      "cell_type": "code",
      "metadata": {
        "id": "VRy36S9htq8a",
        "colab_type": "code",
        "colab": {
          "base_uri": "https://localhost:8080/",
          "height": 36
        },
        "outputId": "ea0af91c-12b4-49cb-c8b3-1134b2bfe914"
      },
      "source": [
        "destination_test"
      ],
      "execution_count": null,
      "outputs": [
        {
          "output_type": "execute_result",
          "data": {
            "application/vnd.google.colaboratory.intrinsic": {
              "type": "string"
            },
            "text/plain": [
              "'/content/gdrive/My Drive/oregon_images/test//virginia_opossum'"
            ]
          },
          "metadata": {
            "tags": []
          },
          "execution_count": 78
        }
      ]
    },
    {
      "cell_type": "code",
      "metadata": {
        "id": "w7Hh7g-dtq-v",
        "colab_type": "code",
        "colab": {}
      },
      "source": [
        ""
      ],
      "execution_count": null,
      "outputs": []
    },
    {
      "cell_type": "code",
      "metadata": {
        "id": "xCfFY7wutrDx",
        "colab_type": "code",
        "colab": {}
      },
      "source": [
        ""
      ],
      "execution_count": null,
      "outputs": []
    },
    {
      "cell_type": "code",
      "metadata": {
        "id": "8Yvk-gIMtrI-",
        "colab_type": "code",
        "colab": {}
      },
      "source": [
        ""
      ],
      "execution_count": null,
      "outputs": []
    },
    {
      "cell_type": "code",
      "metadata": {
        "id": "PQgilEDCtrLq",
        "colab_type": "code",
        "colab": {}
      },
      "source": [
        ""
      ],
      "execution_count": null,
      "outputs": []
    },
    {
      "cell_type": "code",
      "metadata": {
        "id": "pcKLXVhNtrO5",
        "colab_type": "code",
        "colab": {}
      },
      "source": [
        ""
      ],
      "execution_count": null,
      "outputs": []
    },
    {
      "cell_type": "code",
      "metadata": {
        "id": "4sPiBuPFtrSz",
        "colab_type": "code",
        "colab": {}
      },
      "source": [
        ""
      ],
      "execution_count": null,
      "outputs": []
    },
    {
      "cell_type": "code",
      "metadata": {
        "id": "eibIqHNltrGi",
        "colab_type": "code",
        "colab": {}
      },
      "source": [
        ""
      ],
      "execution_count": null,
      "outputs": []
    },
    {
      "cell_type": "code",
      "metadata": {
        "id": "mCSCZEs1trCF",
        "colab_type": "code",
        "colab": {}
      },
      "source": [
        ""
      ],
      "execution_count": null,
      "outputs": []
    },
    {
      "cell_type": "code",
      "metadata": {
        "id": "VpN7NrYUtm8m",
        "colab_type": "code",
        "colab": {}
      },
      "source": [
        ""
      ],
      "execution_count": null,
      "outputs": []
    },
    {
      "cell_type": "code",
      "metadata": {
        "id": "-mIVkUKftm_m",
        "colab_type": "code",
        "colab": {}
      },
      "source": [
        ""
      ],
      "execution_count": null,
      "outputs": []
    },
    {
      "cell_type": "code",
      "metadata": {
        "id": "Rj_n5Cl2tnEW",
        "colab_type": "code",
        "colab": {}
      },
      "source": [
        ""
      ],
      "execution_count": null,
      "outputs": []
    },
    {
      "cell_type": "code",
      "metadata": {
        "id": "HXgYrx81tnCd",
        "colab_type": "code",
        "colab": {}
      },
      "source": [
        ""
      ],
      "execution_count": null,
      "outputs": []
    },
    {
      "cell_type": "code",
      "metadata": {
        "id": "rX2WF0aZb2-t",
        "colab_type": "code",
        "colab": {}
      },
      "source": [
        ""
      ],
      "execution_count": null,
      "outputs": []
    },
    {
      "cell_type": "code",
      "metadata": {
        "id": "04l8XziMb3Bx",
        "colab_type": "code",
        "colab": {}
      },
      "source": [
        ""
      ],
      "execution_count": null,
      "outputs": []
    },
    {
      "cell_type": "code",
      "metadata": {
        "id": "E4q_EmBgb3D2",
        "colab_type": "code",
        "colab": {}
      },
      "source": [
        ""
      ],
      "execution_count": null,
      "outputs": []
    },
    {
      "cell_type": "code",
      "metadata": {
        "id": "E-EI--Y2ZOsX",
        "colab_type": "code",
        "colab": {}
      },
      "source": [
        ""
      ],
      "execution_count": null,
      "outputs": []
    }
  ]
}