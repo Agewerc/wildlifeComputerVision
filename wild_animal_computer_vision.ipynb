{
  "nbformat": 4,
  "nbformat_minor": 0,
  "metadata": {
    "colab": {
      "name": "wild_animal_computer_vision.ipynb",
      "provenance": [],
      "collapsed_sections": [],
      "machine_shape": "hm",
      "authorship_tag": "ABX9TyODApXj3HR961qTliS9HQ6M",
      "include_colab_link": true
    },
    "kernelspec": {
      "name": "python3",
      "display_name": "Python 3"
    },
    "accelerator": "GPU"
  },
  "cells": [
    {
      "cell_type": "markdown",
      "metadata": {
        "id": "view-in-github",
        "colab_type": "text"
      },
      "source": [
        "<a href=\"https://colab.research.google.com/github/Agewerc/wildlifeComputerVision/blob/master/wild_animal_computer_vision.ipynb\" target=\"_parent\"><img src=\"https://colab.research.google.com/assets/colab-badge.svg\" alt=\"Open In Colab\"/></a>"
      ]
    },
    {
      "cell_type": "markdown",
      "metadata": {
        "id": "Y-RvWpNxb58L",
        "colab_type": "text"
      },
      "source": [
        "# Convolutional Neural Networks\n",
        "\n",
        "## Project: Write an Algorithm for a Wildlife Identification App \n",
        "\n",
        "---\n",
        "\n",
        "\n",
        "\n",
        ">**Note:** Code and Markdown cells can be executed using the **Shift + Enter** keyboard shortcut.  Markdown cells can be edited by double-clicking the cell to enter edit mode.\n",
        "\n",
        "The rubric contains _optional_ \"Stand Out Suggestions\" for enhancing the project beyond the minimum requirements. If you decide to pursue the \"Stand Out Suggestions\", you should include the code in this Jupyter notebook.\n"
      ]
    },
    {
      "cell_type": "code",
      "metadata": {
        "id": "oJie-E1mbt03",
        "colab_type": "code",
        "colab": {
          "base_uri": "https://localhost:8080/",
          "height": 36
        },
        "outputId": "de72a91f-65e9-414b-89c4-5cbe0fb274aa"
      },
      "source": [
        "from google.colab import drive\n",
        "drive.mount('/content/gdrive')\n",
        "root_path = '/content/gdrive/My Drive/oregon_wildlife'  #change dir to your project folder"
      ],
      "execution_count": 1,
      "outputs": [
        {
          "output_type": "stream",
          "text": [
            "Drive already mounted at /content/gdrive; to attempt to forcibly remount, call drive.mount(\"/content/gdrive\", force_remount=True).\n"
          ],
          "name": "stdout"
        }
      ]
    },
    {
      "cell_type": "code",
      "metadata": {
        "id": "kj5M3px0NJiq",
        "colab_type": "code",
        "colab": {}
      },
      "source": [
        "import numpy as np\n",
        "from glob import glob\n",
        "# Imports\n",
        "import torch\n",
        "import torch.nn as nn  # All neural network modules, nn.Linear, nn.Conv2d, BatchNorm, Loss functions\n",
        "import torch.optim as optim  # For all Optimization algorithms, SGD, Adam, etc.\n",
        "import torchvision.transforms as transforms  # Transformations we can perform on our dataset\n",
        "import torchvision\n",
        "import os\n",
        "import pandas as pd\n",
        "from skimage import io\n",
        "from torch.utils.data import (Dataset, DataLoader, )  # Gives easier dataset managment and creates mini batches\n",
        "from torchvision.datasets import ImageFolder \n",
        "import pandas as pd\n",
        "import os\n",
        "import re\n",
        "from sklearn.preprocessing import LabelEncoder\n",
        "import random "
      ],
      "execution_count": 13,
      "outputs": []
    },
    {
      "cell_type": "code",
      "metadata": {
        "id": "gmZHYAKWb23b",
        "colab_type": "code",
        "colab": {}
      },
      "source": [
        "# load filenames for human and dog images\n",
        "bald_eagle = np.array(glob(\"/content/gdrive/My Drive/oregon_wildlife/bald_eagle/*\"))\n",
        "black_bear = np.array(glob(\"/content/gdrive/My Drive/oregon_wildlife/black_bear/*\"))\n",
        "bob_cat = np.array(glob(\"/content/gdrive/My Drive/oregon_wildlife/bobcat/*\"))\n",
        "canada_lynx = np.array(glob(\"/content/gdrive/My Drive/oregon_wildlife/canada_lynx/*\"))\n",
        "columbian_black_tailed_deer = np.array(glob(\"/content/gdrive/My Drive/oregon_wildlife/columbian_black-tailed_deer/*\"))\n",
        "cougar = np.array(glob(\"/content/gdrive/My Drive/oregon_wildlife/cougar/*\"))\n",
        "coyote = np.array(glob(\"/content/gdrive/My Drive/oregon_wildlife/coyote/*\"))\n",
        "deer = np.array(glob(\"/content/gdrive/My Drive/oregon_wildlife/deer/*\"))\n",
        "elk = np.array(glob(\"/content/gdrive/My Drive/oregon_wildlife/elk/*\"))\n",
        "gray_fox = np.array(glob(\"/content/gdrive/My Drive/oregon_wildlife/gray_fox/*\"))\n",
        "gray_wolf = np.array(glob(\"/content/gdrive/My Drive/oregon_wildlife/gray_wolf/*\"))\n",
        "mountain_beaver = np.array(glob(\"/content/gdrive/My Drive/oregon_wildlife/mountain_beaver/*\"))\n",
        "nutria = np.array(glob(\"/content/gdrive/My Drive/oregon_wildlife/nutria/*\"))\n",
        "raccoon = np.array(glob(\"/content/gdrive/My Drive/oregon_wildlife/raccoon/*\"))\n",
        "raven = np.array(glob(\"/content/gdrive/My Drive/oregon_wildlife/raven/*\"))\n",
        "red_fox = np.array(glob(\"/content/gdrive/My Drive/oregon_wildlife/red_fox/*\"))\n",
        "ringtail = np.array(glob(\"/content/gdrive/My Drive/oregon_wildlife/ringtail/*\"))\n",
        "seals = np.array(glob(\"/content/gdrive/My Drive/oregon_wildlife/seals/*\"))\n",
        "virginia_opossum = np.array(glob(\"/content/gdrive/My Drive/oregon_wildlife/virginia_opossum/*\"))"
      ],
      "execution_count": 3,
      "outputs": []
    },
    {
      "cell_type": "code",
      "metadata": {
        "id": "OfputgDcb255",
        "colab_type": "code",
        "colab": {
          "base_uri": "https://localhost:8080/",
          "height": 372
        },
        "outputId": "752e7393-7a77-4d44-a72c-81d1d57d3f4b"
      },
      "source": [
        "# print number of images in each dataset\n",
        "print('There are %d total bald_eagle images.' % len(bald_eagle))\n",
        "print('There are %d total black_bear images.' % len(black_bear))\n",
        "print('There are %d total bob_cat images.' % len(bob_cat))\n",
        "print('There are %d total canada_linx images.' % len(canada_lynx))\n",
        "print('There are %d total columbian_black_tailed_deer images.' % len(columbian_black_tailed_deer))\n",
        "print('There are %d total cougar images.' % len(cougar))\n",
        "print('There are %d total coyote images.' % len(coyote))\n",
        "print('There are %d total deer images.' % len(deer))\n",
        "print('There are %d total elk images.' % len(elk))\n",
        "print('There are %d total gray_fox images.' % len(gray_fox))\n",
        "print('There are %d total gray_wolf images.' % len(gray_wolf))\n",
        "print('There are %d total mountain_beaver images.' % len(mountain_beaver))\n",
        "print('There are %d total nutria images.' % len(nutria))\n",
        "print('There are %d total raccoon images.' % len(raccoon))\n",
        "print('There are %d total raven images.' % len(raven))\n",
        "print('There are %d total red_fox images.' % len(red_fox))\n",
        "print('There are %d total ringtail images.' % len(ringtail))\n",
        "print('There are %d total seals images.' % len(seals))\n",
        "print('There are %d total virginia_opossum images.' % len(virginia_opossum))\n"
      ],
      "execution_count": 4,
      "outputs": [
        {
          "output_type": "stream",
          "text": [
            "There are 748 total bald_eagle images.\n",
            "There are 718 total black_bear images.\n",
            "There are 696 total bob_cat images.\n",
            "There are 717 total canada_linx images.\n",
            "There are 735 total columbian_black_tailed_deer images.\n",
            "There are 686 total cougar images.\n",
            "There are 736 total coyote images.\n",
            "There are 764 total deer images.\n",
            "There are 660 total elk images.\n",
            "There are 668 total gray_fox images.\n",
            "There are 730 total gray_wolf images.\n",
            "There are 577 total mountain_beaver images.\n",
            "There are 701 total nutria images.\n",
            "There are 728 total raccoon images.\n",
            "There are 656 total raven images.\n",
            "There are 759 total red_fox images.\n",
            "There are 588 total ringtail images.\n",
            "There are 698 total seals images.\n",
            "There are 728 total virginia_opossum images.\n"
          ],
          "name": "stdout"
        }
      ]
    },
    {
      "cell_type": "code",
      "metadata": {
        "id": "w7Hh7g-dtq-v",
        "colab_type": "code",
        "colab": {}
      },
      "source": [
        "import glob\n",
        "\n",
        "dir = '/content/gdrive/My Drive/oregon_wildlife'\n",
        "\n",
        "files = [f for f in glob.glob(dir + \"**/**\", recursive=True)]"
      ],
      "execution_count": 5,
      "outputs": []
    },
    {
      "cell_type": "code",
      "metadata": {
        "id": "jYToDITvAkTX",
        "colab_type": "code",
        "colab": {}
      },
      "source": [
        "df_animals = pd.DataFrame({\"file_path\":files}) "
      ],
      "execution_count": 6,
      "outputs": []
    },
    {
      "cell_type": "code",
      "metadata": {
        "id": "Y_pg0XFiNIN1",
        "colab_type": "code",
        "colab": {}
      },
      "source": [
        "df_animals['animal'] = df_animals['file_path'].str.extract('/oregon_wildlife/(.+)/')\n",
        "df_animals['file'] = df_animals['file_path'].str.extract('oregon_wildlife/.+/(.+)')\n",
        "df_animals = df_animals.dropna()"
      ],
      "execution_count": 7,
      "outputs": []
    },
    {
      "cell_type": "code",
      "metadata": {
        "id": "D0hOS65lNIFi",
        "colab_type": "code",
        "colab": {}
      },
      "source": [
        "lb_make = LabelEncoder()\n",
        "df_animals[\"animal\"] = lb_make.fit_transform(df_animals[\"animal\"])"
      ],
      "execution_count": 8,
      "outputs": []
    },
    {
      "cell_type": "code",
      "metadata": {
        "id": "Q5Vc-U8TNH9b",
        "colab_type": "code",
        "colab": {}
      },
      "source": [
        "animal_set = set(df_animals['animal'])\n",
        "train_val_test_list = [0,1,2]\n",
        "train_val_weights = [70,15,15]\n",
        "df_animals['train_val_test'] = 'NA' \n",
        "\n",
        "for an in animal_set:\n",
        "  n = sum(df_animals['animal'] == an)\n",
        "  train_val_test = random.choices(train_val_test_list, weights= train_val_weights,  k=n)\n",
        "  df_animals.loc[df_animals['animal'] == an, 'train_val_test'] = train_val_test "
      ],
      "execution_count": 9,
      "outputs": []
    },
    {
      "cell_type": "code",
      "metadata": {
        "id": "HtITIB0mNkeC",
        "colab_type": "code",
        "colab": {}
      },
      "source": [
        "transform = {\n",
        "    'train': transforms.Compose([\n",
        "        transforms.RandomResizedCrop(224),\n",
        "        transforms.RandomHorizontalFlip(),\n",
        "        transforms.RandomRotation(10),\n",
        "        transforms.ToTensor(),\n",
        "        transforms.Normalize(mean=[0.485, 0.456, 0.406], std=[0.229, 0.224, 0.225])\n",
        "    ]),\n",
        "    'valid': transforms.Compose([\n",
        "        transforms.Resize(256),\n",
        "        transforms.CenterCrop(224),\n",
        "        transforms.ToTensor(),\n",
        "        transforms.Normalize(mean=[0.485, 0.456, 0.406], std=[0.229, 0.224, 0.225])\n",
        "    ]),\n",
        "    'test': transforms.Compose([\n",
        "        transforms.Resize(256),\n",
        "        transforms.CenterCrop(224),\n",
        "        transforms.ToTensor(),\n",
        "        transforms.Normalize(mean=[0.485, 0.456, 0.406], std=[0.229, 0.224, 0.225])\n",
        "    ]),    \n",
        "}\n"
      ],
      "execution_count": 10,
      "outputs": []
    },
    {
      "cell_type": "code",
      "metadata": {
        "id": "d7yNso6BN-wd",
        "colab_type": "code",
        "colab": {}
      },
      "source": [
        "def check_train(path):\n",
        "    return (df_animals[df_animals['file_path'] == path].train_val_test == 0).bool\n",
        "\n",
        "def check_valid(path):\n",
        "    return (df_animals[df_animals['file_path'] == path].train_val_test == 1).bool\n",
        "\n",
        "def check_test(path):\n",
        "    return (df_animals[df_animals['file_path'] == path].train_val_test == 2).bool"
      ],
      "execution_count": 11,
      "outputs": []
    },
    {
      "cell_type": "code",
      "metadata": {
        "id": "Jx9l02UzPU1q",
        "colab_type": "code",
        "colab": {}
      },
      "source": [
        "dir = \"/content/gdrive/My Drive/oregon_wildlife\""
      ],
      "execution_count": 15,
      "outputs": []
    },
    {
      "cell_type": "code",
      "metadata": {
        "id": "EiqZwRdvOAXg",
        "colab_type": "code",
        "colab": {}
      },
      "source": [
        "# Reading Dataset\n",
        "image_datasets = {\n",
        "    'train' : ImageFolder(root= dir, transform=transform['train'], is_valid_file=check_train),\n",
        "    'valid' : ImageFolder(root=dir, transform=transform['valid'], is_valid_file=check_valid),\n",
        "    'test' : ImageFolder(root=dir, transform=transform['test'], is_valid_file=check_test)\n",
        "}"
      ],
      "execution_count": 16,
      "outputs": []
    },
    {
      "cell_type": "code",
      "metadata": {
        "id": "ULGjCFOWNkUv",
        "colab_type": "code",
        "colab": {}
      },
      "source": [
        "num_workers = 0\n",
        "batch_size = 20\n",
        "\n",
        "loaders_scratch = {\n",
        "    'train' : DataLoader(image_datasets['train'], shuffle = True, batch_size = batch_size),\n",
        "    'valid' : DataLoader(image_datasets['valid'], shuffle = True, batch_size = batch_size),\n",
        "    'test' : DataLoader(image_datasets['test'], shuffle = True, batch_size = batch_size)    \n",
        "}"
      ],
      "execution_count": 18,
      "outputs": []
    },
    {
      "cell_type": "code",
      "metadata": {
        "id": "q4xlszb4NkAa",
        "colab_type": "code",
        "colab": {
          "base_uri": "https://localhost:8080/",
          "height": 1000
        },
        "outputId": "6f681f0c-506c-4bc0-9187-597a5e1f8d92"
      },
      "source": [
        "for batch_idx, (data, target) in enumerate(loaders_scratch['valid']):\n",
        "  print(data)"
      ],
      "execution_count": 21,
      "outputs": [
        {
          "output_type": "stream",
          "text": [
            "tensor([[[[-0.2513, -0.4054, -0.4054,  ..., -0.4739, -0.4911, -0.4226],\n",
            "          [-0.5596, -0.4568, -0.4054,  ..., -0.6452, -0.6109, -0.5767],\n",
            "          [-0.3369, -0.3883, -0.3712,  ..., -0.6623, -0.6623, -0.9877],\n",
            "          ...,\n",
            "          [-0.1143, -0.2513, -0.0801,  ..., -0.4226, -0.4911, -0.4054],\n",
            "          [-0.3027, -0.3027, -0.0801,  ..., -0.2171, -0.4911, -0.5938],\n",
            "          [-0.2513, -0.1657,  0.0056,  ..., -0.1314, -0.4054, -0.5082]],\n",
            "\n",
            "         [[-0.0749, -0.2325, -0.2675,  ..., -0.3725, -0.3725, -0.3025],\n",
            "          [-0.4251, -0.3375, -0.2850,  ..., -0.5476, -0.4951, -0.4601],\n",
            "          [-0.1975, -0.2500, -0.2325,  ..., -0.5476, -0.5651, -0.8627],\n",
            "          ...,\n",
            "          [ 0.0301, -0.1275,  0.0476,  ..., -0.3375, -0.4076, -0.3025],\n",
            "          [-0.1625, -0.1450,  0.0651,  ..., -0.1275, -0.4076, -0.4951],\n",
            "          [-0.1275,  0.0126,  0.1877,  ..., -0.0399, -0.3025, -0.3901]],\n",
            "\n",
            "         [[ 0.2348,  0.0779,  0.0605,  ..., -0.0615, -0.0615,  0.0082],\n",
            "          [-0.1487, -0.0790, -0.0615,  ..., -0.2358, -0.1835, -0.1487],\n",
            "          [ 0.0605, -0.0092, -0.0441,  ..., -0.2358, -0.2358, -0.5670],\n",
            "          ...,\n",
            "          [ 0.3916,  0.2871,  0.4614,  ..., -0.0441, -0.1312, -0.0092],\n",
            "          [ 0.1999,  0.1999,  0.3916,  ...,  0.1651, -0.1487, -0.2184],\n",
            "          [ 0.2348,  0.3219,  0.4788,  ...,  0.2522, -0.0441, -0.1661]]],\n",
            "\n",
            "\n",
            "        [[[ 0.9474,  0.9474,  0.9474,  ..., -0.5767, -0.5938, -0.7308],\n",
            "          [ 2.2489,  2.2489,  2.2489,  ..., -0.9705, -0.9705, -1.0904],\n",
            "          [ 2.2318,  2.2318,  2.2318,  ..., -1.0904, -0.8507, -0.9705],\n",
            "          ...,\n",
            "          [ 2.2489,  2.2489,  2.2489,  ...,  1.8379,  1.8379,  1.8379],\n",
            "          [ 2.2489,  2.2489,  2.2489,  ...,  1.6667,  1.6495,  1.6495],\n",
            "          [ 0.9303,  0.9303,  0.9303,  ...,  0.6049,  0.5878,  0.5364]],\n",
            "\n",
            "         [[ 0.8354,  0.8354,  0.8354,  ..., -0.7927, -0.8452, -0.9853],\n",
            "          [ 2.4111,  2.4111,  2.4111,  ..., -1.1604, -1.1779, -1.3179],\n",
            "          [ 2.4286,  2.4286,  2.4286,  ..., -1.2654, -1.0728, -1.1604],\n",
            "          ...,\n",
            "          [ 2.4286,  2.4286,  2.4286,  ...,  2.0084,  2.0084,  2.0084],\n",
            "          [ 2.4286,  2.4286,  2.4286,  ...,  1.8333,  1.8158,  1.7983],\n",
            "          [ 0.8354,  0.8354,  0.8354,  ...,  0.5203,  0.5028,  0.4503]],\n",
            "\n",
            "         [[ 0.2871,  0.2871,  0.2871,  ..., -1.2990, -1.3687, -1.5081],\n",
            "          [ 2.6051,  2.6051,  2.6051,  ..., -0.9853, -1.0027, -1.1421],\n",
            "          [ 2.6226,  2.6226,  2.6226,  ..., -1.1073, -0.8981, -0.9853],\n",
            "          ...,\n",
            "          [ 2.6400,  2.6400,  2.6400,  ...,  2.2217,  2.2217,  2.2217],\n",
            "          [ 2.6400,  2.6400,  2.6400,  ...,  2.0648,  2.0474,  2.0300],\n",
            "          [ 0.3045,  0.3045,  0.3045,  ...,  0.0256,  0.0082, -0.0441]]],\n",
            "\n",
            "\n",
            "        [[[ 0.2282,  0.2282,  0.2111,  ...,  0.9646,  0.9303,  0.9303],\n",
            "          [ 0.2111,  0.2111,  0.2282,  ...,  0.9646,  0.9474,  0.9303],\n",
            "          [ 0.2282,  0.2111,  0.2282,  ...,  0.9646,  0.9474,  0.9474],\n",
            "          ...,\n",
            "          [-1.3987, -1.6042, -1.7925,  ..., -1.6213, -1.6384, -1.6727],\n",
            "          [-1.4843, -1.6213, -1.7412,  ..., -1.6384, -1.6042, -1.6898],\n",
            "          [-1.6042, -1.6555, -1.6727,  ..., -1.6898, -1.6898, -1.7069]],\n",
            "\n",
            "         [[ 0.3978,  0.4328,  0.4503,  ...,  1.5707,  1.5532,  1.5532],\n",
            "          [ 0.3978,  0.3978,  0.4503,  ...,  1.5707,  1.5707,  1.5532],\n",
            "          [ 0.3978,  0.3978,  0.4503,  ...,  1.5707,  1.5707,  1.5532],\n",
            "          ...,\n",
            "          [-1.1253, -1.3354, -1.5455,  ..., -1.2829, -1.2829, -1.3354],\n",
            "          [-1.2129, -1.3704, -1.4930,  ..., -1.3179, -1.2479, -1.3529],\n",
            "          [-1.3529, -1.4055, -1.4405,  ..., -1.3880, -1.3529, -1.3880]],\n",
            "\n",
            "         [[ 0.8274,  0.8622,  0.8797,  ...,  2.3088,  2.2914,  2.2914],\n",
            "          [ 0.8099,  0.8274,  0.8622,  ...,  2.3088,  2.2914,  2.3088],\n",
            "          [ 0.8099,  0.8274,  0.8622,  ...,  2.3088,  2.3088,  2.3088],\n",
            "          ...,\n",
            "          [-0.6715, -0.8807, -1.1596,  ..., -0.6367, -0.6541, -0.6541],\n",
            "          [-0.7587, -0.9504, -1.1247,  ..., -0.6890, -0.6193, -0.6890],\n",
            "          [-0.8807, -1.0027, -1.0550,  ..., -0.7587, -0.7413, -0.7413]]],\n",
            "\n",
            "\n",
            "        ...,\n",
            "\n",
            "\n",
            "        [[[ 1.4954,  1.5125,  1.5639,  ...,  1.7352,  1.7865,  1.8379],\n",
            "          [ 1.5297,  1.5297,  1.6324,  ...,  1.7523,  1.8037,  1.8208],\n",
            "          [ 1.5639,  1.5297,  1.5982,  ...,  1.7694,  1.8037,  1.8037],\n",
            "          ...,\n",
            "          [ 1.3584,  1.4098,  1.3413,  ...,  1.8037,  1.7694,  1.8208],\n",
            "          [ 1.3584,  1.3927,  1.3755,  ...,  1.9407,  1.9920,  2.0092],\n",
            "          [ 1.3584,  1.3242,  1.3242,  ...,  1.9578,  2.0263,  2.0092]],\n",
            "\n",
            "         [[ 1.7808,  1.8158,  1.8683,  ...,  2.0434,  2.0784,  2.0784],\n",
            "          [ 1.8158,  1.8158,  1.9034,  ...,  2.0609,  2.0784,  2.0434],\n",
            "          [ 1.8508,  1.8158,  1.8859,  ...,  2.0609,  2.0784,  2.0259],\n",
            "          ...,\n",
            "          [ 1.5532,  1.5707,  1.5357,  ...,  2.0084,  1.9909,  2.0084],\n",
            "          [ 1.5532,  1.5532,  1.5532,  ...,  2.1134,  2.1660,  2.1660],\n",
            "          [ 1.5182,  1.5007,  1.5182,  ...,  2.0959,  2.1660,  2.1660]],\n",
            "\n",
            "         [[ 2.1346,  2.1520,  2.2043,  ...,  2.3088,  2.3437,  2.3786],\n",
            "          [ 2.1346,  2.1520,  2.2043,  ...,  2.3437,  2.3437,  2.3437],\n",
            "          [ 2.1868,  2.1520,  2.1694,  ...,  2.3437,  2.3611,  2.3263],\n",
            "          ...,\n",
            "          [ 1.9254,  1.9603,  1.9254,  ...,  2.3088,  2.2914,  2.3088],\n",
            "          [ 1.9254,  1.9428,  1.9428,  ...,  2.3786,  2.4308,  2.4657],\n",
            "          [ 1.9080,  1.8905,  1.9080,  ...,  2.3960,  2.4483,  2.4308]]],\n",
            "\n",
            "\n",
            "        [[[-1.2617, -1.2788, -1.2959,  ...,  1.4440,  1.5810,  1.6667],\n",
            "          [-1.2788, -1.2788, -1.2788,  ...,  1.3927,  1.5297,  1.6153],\n",
            "          [-1.2445, -1.2445, -1.2617,  ...,  1.3242,  1.4612,  1.5810],\n",
            "          ...,\n",
            "          [ 1.0673,  1.0844,  1.0844,  ...,  1.5468,  1.5639,  1.5810],\n",
            "          [ 1.1015,  1.1015,  1.1015,  ...,  1.5810,  1.5982,  1.5982],\n",
            "          [ 1.1187,  1.1187,  1.1187,  ...,  1.6153,  1.6324,  1.6495]],\n",
            "\n",
            "         [[-1.1954, -1.2129, -1.1954,  ...,  1.6057,  1.7283,  1.8158],\n",
            "          [-1.2129, -1.2129, -1.1779,  ...,  1.5357,  1.6758,  1.7633],\n",
            "          [-1.1779, -1.1779, -1.1779,  ...,  1.4657,  1.6232,  1.7283],\n",
            "          ...,\n",
            "          [ 1.1856,  1.2031,  1.2031,  ...,  1.7108,  1.7283,  1.7458],\n",
            "          [ 1.2206,  1.2206,  1.2206,  ...,  1.7458,  1.7633,  1.7633],\n",
            "          [ 1.2381,  1.2381,  1.2381,  ...,  1.7808,  1.7983,  1.8158]],\n",
            "\n",
            "         [[-0.9504, -0.9678, -0.9678,  ...,  1.9080,  2.0300,  2.1171],\n",
            "          [-0.9678, -0.9678, -0.9504,  ...,  1.8557,  1.9777,  2.0648],\n",
            "          [-0.9330, -0.9330, -0.9504,  ...,  1.7860,  1.9254,  2.0300],\n",
            "          ...,\n",
            "          [ 1.4200,  1.4374,  1.4374,  ...,  1.9254,  1.9428,  1.9603],\n",
            "          [ 1.4548,  1.4548,  1.4548,  ...,  1.9603,  1.9777,  1.9777],\n",
            "          [ 1.4722,  1.4722,  1.4722,  ...,  1.9951,  2.0125,  2.0300]]],\n",
            "\n",
            "\n",
            "        [[[-1.3302, -1.3644, -1.3644,  ..., -0.8507, -0.8507, -0.8164],\n",
            "          [-1.3815, -1.3987, -1.3987,  ..., -0.8678, -0.8507, -0.8164],\n",
            "          [-1.4329, -1.4158, -1.3815,  ..., -0.8849, -0.8849, -0.8507],\n",
            "          ...,\n",
            "          [ 0.2111,  0.3309,  0.3823,  ...,  0.1597,  0.1597,  0.1597],\n",
            "          [ 0.2624,  0.3652,  0.3652,  ...,  0.1597,  0.1597,  0.1597],\n",
            "          [ 0.2967,  0.3481,  0.3481,  ...,  0.1426,  0.1426,  0.1426]],\n",
            "\n",
            "         [[-1.1954, -1.2304, -1.2304,  ..., -0.7577, -0.7577, -0.7227],\n",
            "          [-1.2479, -1.2654, -1.2654,  ..., -0.7752, -0.7577, -0.7227],\n",
            "          [-1.3004, -1.2829, -1.2479,  ..., -0.7927, -0.7927, -0.7577],\n",
            "          ...,\n",
            "          [ 0.0826,  0.1877,  0.2402,  ...,  0.8704,  0.8704,  0.8704],\n",
            "          [ 0.1352,  0.2227,  0.2227,  ...,  0.8704,  0.8704,  0.8704],\n",
            "          [ 0.1877,  0.2052,  0.2052,  ...,  0.8529,  0.8529,  0.8529]],\n",
            "\n",
            "         [[-1.1944, -1.2293, -1.2467,  ..., -0.8807, -0.8807, -0.8458],\n",
            "          [-1.2119, -1.2641, -1.2641,  ..., -0.9156, -0.8981, -0.8633],\n",
            "          [-1.2467, -1.2467, -1.2467,  ..., -0.9678, -0.9678, -0.9330],\n",
            "          ...,\n",
            "          [-0.1312, -0.0267,  0.0082,  ..., -0.2707, -0.2707, -0.2707],\n",
            "          [-0.0964, -0.0092, -0.0092,  ..., -0.2881, -0.2881, -0.2881],\n",
            "          [-0.0441, -0.0267, -0.0267,  ..., -0.3055, -0.3055, -0.3055]]]])\n"
          ],
          "name": "stdout"
        },
        {
          "output_type": "error",
          "ename": "KeyboardInterrupt",
          "evalue": "ignored",
          "traceback": [
            "\u001b[0;31m---------------------------------------------------------------------------\u001b[0m",
            "\u001b[0;31mKeyboardInterrupt\u001b[0m                         Traceback (most recent call last)",
            "\u001b[0;32m<ipython-input-21-3f6117594adf>\u001b[0m in \u001b[0;36m<module>\u001b[0;34m()\u001b[0m\n\u001b[0;32m----> 1\u001b[0;31m \u001b[0;32mfor\u001b[0m \u001b[0mbatch_idx\u001b[0m\u001b[0;34m,\u001b[0m \u001b[0;34m(\u001b[0m\u001b[0mdata\u001b[0m\u001b[0;34m,\u001b[0m \u001b[0mtarget\u001b[0m\u001b[0;34m)\u001b[0m \u001b[0;32min\u001b[0m \u001b[0menumerate\u001b[0m\u001b[0;34m(\u001b[0m\u001b[0mloaders_scratch\u001b[0m\u001b[0;34m[\u001b[0m\u001b[0;34m'valid'\u001b[0m\u001b[0;34m]\u001b[0m\u001b[0;34m)\u001b[0m\u001b[0;34m:\u001b[0m\u001b[0;34m\u001b[0m\u001b[0;34m\u001b[0m\u001b[0m\n\u001b[0m\u001b[1;32m      2\u001b[0m   \u001b[0mprint\u001b[0m\u001b[0;34m(\u001b[0m\u001b[0mdata\u001b[0m\u001b[0;34m)\u001b[0m\u001b[0;34m\u001b[0m\u001b[0;34m\u001b[0m\u001b[0m\n",
            "\u001b[0;32m/usr/local/lib/python3.6/dist-packages/torch/utils/data/dataloader.py\u001b[0m in \u001b[0;36m__next__\u001b[0;34m(self)\u001b[0m\n\u001b[1;32m    343\u001b[0m \u001b[0;34m\u001b[0m\u001b[0m\n\u001b[1;32m    344\u001b[0m     \u001b[0;32mdef\u001b[0m \u001b[0m__next__\u001b[0m\u001b[0;34m(\u001b[0m\u001b[0mself\u001b[0m\u001b[0;34m)\u001b[0m\u001b[0;34m:\u001b[0m\u001b[0;34m\u001b[0m\u001b[0;34m\u001b[0m\u001b[0m\n\u001b[0;32m--> 345\u001b[0;31m         \u001b[0mdata\u001b[0m \u001b[0;34m=\u001b[0m \u001b[0mself\u001b[0m\u001b[0;34m.\u001b[0m\u001b[0m_next_data\u001b[0m\u001b[0;34m(\u001b[0m\u001b[0;34m)\u001b[0m\u001b[0;34m\u001b[0m\u001b[0;34m\u001b[0m\u001b[0m\n\u001b[0m\u001b[1;32m    346\u001b[0m         \u001b[0mself\u001b[0m\u001b[0;34m.\u001b[0m\u001b[0m_num_yielded\u001b[0m \u001b[0;34m+=\u001b[0m \u001b[0;36m1\u001b[0m\u001b[0;34m\u001b[0m\u001b[0;34m\u001b[0m\u001b[0m\n\u001b[1;32m    347\u001b[0m         \u001b[0;32mif\u001b[0m \u001b[0mself\u001b[0m\u001b[0;34m.\u001b[0m\u001b[0m_dataset_kind\u001b[0m \u001b[0;34m==\u001b[0m \u001b[0m_DatasetKind\u001b[0m\u001b[0;34m.\u001b[0m\u001b[0mIterable\u001b[0m \u001b[0;32mand\u001b[0m\u001b[0;31m \u001b[0m\u001b[0;31m\\\u001b[0m\u001b[0;34m\u001b[0m\u001b[0;34m\u001b[0m\u001b[0m\n",
            "\u001b[0;32m/usr/local/lib/python3.6/dist-packages/torch/utils/data/dataloader.py\u001b[0m in \u001b[0;36m_next_data\u001b[0;34m(self)\u001b[0m\n\u001b[1;32m    383\u001b[0m     \u001b[0;32mdef\u001b[0m \u001b[0m_next_data\u001b[0m\u001b[0;34m(\u001b[0m\u001b[0mself\u001b[0m\u001b[0;34m)\u001b[0m\u001b[0;34m:\u001b[0m\u001b[0;34m\u001b[0m\u001b[0;34m\u001b[0m\u001b[0m\n\u001b[1;32m    384\u001b[0m         \u001b[0mindex\u001b[0m \u001b[0;34m=\u001b[0m \u001b[0mself\u001b[0m\u001b[0;34m.\u001b[0m\u001b[0m_next_index\u001b[0m\u001b[0;34m(\u001b[0m\u001b[0;34m)\u001b[0m  \u001b[0;31m# may raise StopIteration\u001b[0m\u001b[0;34m\u001b[0m\u001b[0;34m\u001b[0m\u001b[0m\n\u001b[0;32m--> 385\u001b[0;31m         \u001b[0mdata\u001b[0m \u001b[0;34m=\u001b[0m \u001b[0mself\u001b[0m\u001b[0;34m.\u001b[0m\u001b[0m_dataset_fetcher\u001b[0m\u001b[0;34m.\u001b[0m\u001b[0mfetch\u001b[0m\u001b[0;34m(\u001b[0m\u001b[0mindex\u001b[0m\u001b[0;34m)\u001b[0m  \u001b[0;31m# may raise StopIteration\u001b[0m\u001b[0;34m\u001b[0m\u001b[0;34m\u001b[0m\u001b[0m\n\u001b[0m\u001b[1;32m    386\u001b[0m         \u001b[0;32mif\u001b[0m \u001b[0mself\u001b[0m\u001b[0;34m.\u001b[0m\u001b[0m_pin_memory\u001b[0m\u001b[0;34m:\u001b[0m\u001b[0;34m\u001b[0m\u001b[0;34m\u001b[0m\u001b[0m\n\u001b[1;32m    387\u001b[0m             \u001b[0mdata\u001b[0m \u001b[0;34m=\u001b[0m \u001b[0m_utils\u001b[0m\u001b[0;34m.\u001b[0m\u001b[0mpin_memory\u001b[0m\u001b[0;34m.\u001b[0m\u001b[0mpin_memory\u001b[0m\u001b[0;34m(\u001b[0m\u001b[0mdata\u001b[0m\u001b[0;34m)\u001b[0m\u001b[0;34m\u001b[0m\u001b[0;34m\u001b[0m\u001b[0m\n",
            "\u001b[0;32m/usr/local/lib/python3.6/dist-packages/torch/utils/data/_utils/fetch.py\u001b[0m in \u001b[0;36mfetch\u001b[0;34m(self, possibly_batched_index)\u001b[0m\n\u001b[1;32m     42\u001b[0m     \u001b[0;32mdef\u001b[0m \u001b[0mfetch\u001b[0m\u001b[0;34m(\u001b[0m\u001b[0mself\u001b[0m\u001b[0;34m,\u001b[0m \u001b[0mpossibly_batched_index\u001b[0m\u001b[0;34m)\u001b[0m\u001b[0;34m:\u001b[0m\u001b[0;34m\u001b[0m\u001b[0;34m\u001b[0m\u001b[0m\n\u001b[1;32m     43\u001b[0m         \u001b[0;32mif\u001b[0m \u001b[0mself\u001b[0m\u001b[0;34m.\u001b[0m\u001b[0mauto_collation\u001b[0m\u001b[0;34m:\u001b[0m\u001b[0;34m\u001b[0m\u001b[0;34m\u001b[0m\u001b[0m\n\u001b[0;32m---> 44\u001b[0;31m             \u001b[0mdata\u001b[0m \u001b[0;34m=\u001b[0m \u001b[0;34m[\u001b[0m\u001b[0mself\u001b[0m\u001b[0;34m.\u001b[0m\u001b[0mdataset\u001b[0m\u001b[0;34m[\u001b[0m\u001b[0midx\u001b[0m\u001b[0;34m]\u001b[0m \u001b[0;32mfor\u001b[0m \u001b[0midx\u001b[0m \u001b[0;32min\u001b[0m \u001b[0mpossibly_batched_index\u001b[0m\u001b[0;34m]\u001b[0m\u001b[0;34m\u001b[0m\u001b[0;34m\u001b[0m\u001b[0m\n\u001b[0m\u001b[1;32m     45\u001b[0m         \u001b[0;32melse\u001b[0m\u001b[0;34m:\u001b[0m\u001b[0;34m\u001b[0m\u001b[0;34m\u001b[0m\u001b[0m\n\u001b[1;32m     46\u001b[0m             \u001b[0mdata\u001b[0m \u001b[0;34m=\u001b[0m \u001b[0mself\u001b[0m\u001b[0;34m.\u001b[0m\u001b[0mdataset\u001b[0m\u001b[0;34m[\u001b[0m\u001b[0mpossibly_batched_index\u001b[0m\u001b[0;34m]\u001b[0m\u001b[0;34m\u001b[0m\u001b[0;34m\u001b[0m\u001b[0m\n",
            "\u001b[0;32m/usr/local/lib/python3.6/dist-packages/torch/utils/data/_utils/fetch.py\u001b[0m in \u001b[0;36m<listcomp>\u001b[0;34m(.0)\u001b[0m\n\u001b[1;32m     42\u001b[0m     \u001b[0;32mdef\u001b[0m \u001b[0mfetch\u001b[0m\u001b[0;34m(\u001b[0m\u001b[0mself\u001b[0m\u001b[0;34m,\u001b[0m \u001b[0mpossibly_batched_index\u001b[0m\u001b[0;34m)\u001b[0m\u001b[0;34m:\u001b[0m\u001b[0;34m\u001b[0m\u001b[0;34m\u001b[0m\u001b[0m\n\u001b[1;32m     43\u001b[0m         \u001b[0;32mif\u001b[0m \u001b[0mself\u001b[0m\u001b[0;34m.\u001b[0m\u001b[0mauto_collation\u001b[0m\u001b[0;34m:\u001b[0m\u001b[0;34m\u001b[0m\u001b[0;34m\u001b[0m\u001b[0m\n\u001b[0;32m---> 44\u001b[0;31m             \u001b[0mdata\u001b[0m \u001b[0;34m=\u001b[0m \u001b[0;34m[\u001b[0m\u001b[0mself\u001b[0m\u001b[0;34m.\u001b[0m\u001b[0mdataset\u001b[0m\u001b[0;34m[\u001b[0m\u001b[0midx\u001b[0m\u001b[0;34m]\u001b[0m \u001b[0;32mfor\u001b[0m \u001b[0midx\u001b[0m \u001b[0;32min\u001b[0m \u001b[0mpossibly_batched_index\u001b[0m\u001b[0;34m]\u001b[0m\u001b[0;34m\u001b[0m\u001b[0;34m\u001b[0m\u001b[0m\n\u001b[0m\u001b[1;32m     45\u001b[0m         \u001b[0;32melse\u001b[0m\u001b[0;34m:\u001b[0m\u001b[0;34m\u001b[0m\u001b[0;34m\u001b[0m\u001b[0m\n\u001b[1;32m     46\u001b[0m             \u001b[0mdata\u001b[0m \u001b[0;34m=\u001b[0m \u001b[0mself\u001b[0m\u001b[0;34m.\u001b[0m\u001b[0mdataset\u001b[0m\u001b[0;34m[\u001b[0m\u001b[0mpossibly_batched_index\u001b[0m\u001b[0;34m]\u001b[0m\u001b[0;34m\u001b[0m\u001b[0;34m\u001b[0m\u001b[0m\n",
            "\u001b[0;32m/usr/local/lib/python3.6/dist-packages/torchvision/datasets/folder.py\u001b[0m in \u001b[0;36m__getitem__\u001b[0;34m(self, index)\u001b[0m\n\u001b[1;32m    133\u001b[0m         \"\"\"\n\u001b[1;32m    134\u001b[0m         \u001b[0mpath\u001b[0m\u001b[0;34m,\u001b[0m \u001b[0mtarget\u001b[0m \u001b[0;34m=\u001b[0m \u001b[0mself\u001b[0m\u001b[0;34m.\u001b[0m\u001b[0msamples\u001b[0m\u001b[0;34m[\u001b[0m\u001b[0mindex\u001b[0m\u001b[0;34m]\u001b[0m\u001b[0;34m\u001b[0m\u001b[0;34m\u001b[0m\u001b[0m\n\u001b[0;32m--> 135\u001b[0;31m         \u001b[0msample\u001b[0m \u001b[0;34m=\u001b[0m \u001b[0mself\u001b[0m\u001b[0;34m.\u001b[0m\u001b[0mloader\u001b[0m\u001b[0;34m(\u001b[0m\u001b[0mpath\u001b[0m\u001b[0;34m)\u001b[0m\u001b[0;34m\u001b[0m\u001b[0;34m\u001b[0m\u001b[0m\n\u001b[0m\u001b[1;32m    136\u001b[0m         \u001b[0;32mif\u001b[0m \u001b[0mself\u001b[0m\u001b[0;34m.\u001b[0m\u001b[0mtransform\u001b[0m \u001b[0;32mis\u001b[0m \u001b[0;32mnot\u001b[0m \u001b[0;32mNone\u001b[0m\u001b[0;34m:\u001b[0m\u001b[0;34m\u001b[0m\u001b[0;34m\u001b[0m\u001b[0m\n\u001b[1;32m    137\u001b[0m             \u001b[0msample\u001b[0m \u001b[0;34m=\u001b[0m \u001b[0mself\u001b[0m\u001b[0;34m.\u001b[0m\u001b[0mtransform\u001b[0m\u001b[0;34m(\u001b[0m\u001b[0msample\u001b[0m\u001b[0;34m)\u001b[0m\u001b[0;34m\u001b[0m\u001b[0;34m\u001b[0m\u001b[0m\n",
            "\u001b[0;32m/usr/local/lib/python3.6/dist-packages/torchvision/datasets/folder.py\u001b[0m in \u001b[0;36mdefault_loader\u001b[0;34m(path)\u001b[0m\n\u001b[1;32m    169\u001b[0m         \u001b[0;32mreturn\u001b[0m \u001b[0maccimage_loader\u001b[0m\u001b[0;34m(\u001b[0m\u001b[0mpath\u001b[0m\u001b[0;34m)\u001b[0m\u001b[0;34m\u001b[0m\u001b[0;34m\u001b[0m\u001b[0m\n\u001b[1;32m    170\u001b[0m     \u001b[0;32melse\u001b[0m\u001b[0;34m:\u001b[0m\u001b[0;34m\u001b[0m\u001b[0;34m\u001b[0m\u001b[0m\n\u001b[0;32m--> 171\u001b[0;31m         \u001b[0;32mreturn\u001b[0m \u001b[0mpil_loader\u001b[0m\u001b[0;34m(\u001b[0m\u001b[0mpath\u001b[0m\u001b[0;34m)\u001b[0m\u001b[0;34m\u001b[0m\u001b[0;34m\u001b[0m\u001b[0m\n\u001b[0m\u001b[1;32m    172\u001b[0m \u001b[0;34m\u001b[0m\u001b[0m\n\u001b[1;32m    173\u001b[0m \u001b[0;34m\u001b[0m\u001b[0m\n",
            "\u001b[0;32m/usr/local/lib/python3.6/dist-packages/torchvision/datasets/folder.py\u001b[0m in \u001b[0;36mpil_loader\u001b[0;34m(path)\u001b[0m\n\u001b[1;32m    151\u001b[0m     \u001b[0;31m# open path as file to avoid ResourceWarning (https://github.com/python-pillow/Pillow/issues/835)\u001b[0m\u001b[0;34m\u001b[0m\u001b[0;34m\u001b[0m\u001b[0;34m\u001b[0m\u001b[0m\n\u001b[1;32m    152\u001b[0m     \u001b[0;32mwith\u001b[0m \u001b[0mopen\u001b[0m\u001b[0;34m(\u001b[0m\u001b[0mpath\u001b[0m\u001b[0;34m,\u001b[0m \u001b[0;34m'rb'\u001b[0m\u001b[0;34m)\u001b[0m \u001b[0;32mas\u001b[0m \u001b[0mf\u001b[0m\u001b[0;34m:\u001b[0m\u001b[0;34m\u001b[0m\u001b[0;34m\u001b[0m\u001b[0m\n\u001b[0;32m--> 153\u001b[0;31m         \u001b[0mimg\u001b[0m \u001b[0;34m=\u001b[0m \u001b[0mImage\u001b[0m\u001b[0;34m.\u001b[0m\u001b[0mopen\u001b[0m\u001b[0;34m(\u001b[0m\u001b[0mf\u001b[0m\u001b[0;34m)\u001b[0m\u001b[0;34m\u001b[0m\u001b[0;34m\u001b[0m\u001b[0m\n\u001b[0m\u001b[1;32m    154\u001b[0m         \u001b[0;32mreturn\u001b[0m \u001b[0mimg\u001b[0m\u001b[0;34m.\u001b[0m\u001b[0mconvert\u001b[0m\u001b[0;34m(\u001b[0m\u001b[0;34m'RGB'\u001b[0m\u001b[0;34m)\u001b[0m\u001b[0;34m\u001b[0m\u001b[0;34m\u001b[0m\u001b[0m\n\u001b[1;32m    155\u001b[0m \u001b[0;34m\u001b[0m\u001b[0m\n",
            "\u001b[0;32m/usr/local/lib/python3.6/dist-packages/PIL/Image.py\u001b[0m in \u001b[0;36mopen\u001b[0;34m(fp, mode)\u001b[0m\n\u001b[1;32m   2816\u001b[0m         \u001b[0mexclusive_fp\u001b[0m \u001b[0;34m=\u001b[0m \u001b[0;32mTrue\u001b[0m\u001b[0;34m\u001b[0m\u001b[0;34m\u001b[0m\u001b[0m\n\u001b[1;32m   2817\u001b[0m \u001b[0;34m\u001b[0m\u001b[0m\n\u001b[0;32m-> 2818\u001b[0;31m     \u001b[0mprefix\u001b[0m \u001b[0;34m=\u001b[0m \u001b[0mfp\u001b[0m\u001b[0;34m.\u001b[0m\u001b[0mread\u001b[0m\u001b[0;34m(\u001b[0m\u001b[0;36m16\u001b[0m\u001b[0;34m)\u001b[0m\u001b[0;34m\u001b[0m\u001b[0;34m\u001b[0m\u001b[0m\n\u001b[0m\u001b[1;32m   2819\u001b[0m \u001b[0;34m\u001b[0m\u001b[0m\n\u001b[1;32m   2820\u001b[0m     \u001b[0mpreinit\u001b[0m\u001b[0;34m(\u001b[0m\u001b[0;34m)\u001b[0m\u001b[0;34m\u001b[0m\u001b[0;34m\u001b[0m\u001b[0m\n",
            "\u001b[0;31mKeyboardInterrupt\u001b[0m: "
          ]
        }
      ]
    },
    {
      "cell_type": "code",
      "metadata": {
        "id": "KPEvLk8eNj2V",
        "colab_type": "code",
        "colab": {}
      },
      "source": [
        ""
      ],
      "execution_count": null,
      "outputs": []
    },
    {
      "cell_type": "code",
      "metadata": {
        "id": "xvt-vdmnNjsu",
        "colab_type": "code",
        "colab": {}
      },
      "source": [
        ""
      ],
      "execution_count": null,
      "outputs": []
    },
    {
      "cell_type": "code",
      "metadata": {
        "id": "SRzwlmoeNjjF",
        "colab_type": "code",
        "colab": {}
      },
      "source": [
        ""
      ],
      "execution_count": null,
      "outputs": []
    },
    {
      "cell_type": "code",
      "metadata": {
        "id": "buLZlQ15NjaE",
        "colab_type": "code",
        "colab": {}
      },
      "source": [
        ""
      ],
      "execution_count": null,
      "outputs": []
    },
    {
      "cell_type": "code",
      "metadata": {
        "id": "Sg9fvNTyNjRe",
        "colab_type": "code",
        "colab": {}
      },
      "source": [
        ""
      ],
      "execution_count": null,
      "outputs": []
    },
    {
      "cell_type": "code",
      "metadata": {
        "id": "6aT6IJR-NjIz",
        "colab_type": "code",
        "colab": {}
      },
      "source": [
        ""
      ],
      "execution_count": null,
      "outputs": []
    },
    {
      "cell_type": "code",
      "metadata": {
        "id": "ik1lzqsENi_0",
        "colab_type": "code",
        "colab": {}
      },
      "source": [
        ""
      ],
      "execution_count": null,
      "outputs": []
    },
    {
      "cell_type": "code",
      "metadata": {
        "id": "jQnBY0NoNi2N",
        "colab_type": "code",
        "colab": {}
      },
      "source": [
        ""
      ],
      "execution_count": null,
      "outputs": []
    },
    {
      "cell_type": "code",
      "metadata": {
        "id": "019w1UYkNitr",
        "colab_type": "code",
        "colab": {}
      },
      "source": [
        ""
      ],
      "execution_count": null,
      "outputs": []
    },
    {
      "cell_type": "code",
      "metadata": {
        "id": "-HyZ0lXSNik9",
        "colab_type": "code",
        "colab": {}
      },
      "source": [
        ""
      ],
      "execution_count": null,
      "outputs": []
    },
    {
      "cell_type": "code",
      "metadata": {
        "id": "FNpPUsoONib7",
        "colab_type": "code",
        "colab": {}
      },
      "source": [
        ""
      ],
      "execution_count": null,
      "outputs": []
    },
    {
      "cell_type": "code",
      "metadata": {
        "id": "-Y8bfeYVNH1M",
        "colab_type": "code",
        "colab": {}
      },
      "source": [
        ""
      ],
      "execution_count": null,
      "outputs": []
    },
    {
      "cell_type": "code",
      "metadata": {
        "id": "4JiovcIoNHtB",
        "colab_type": "code",
        "colab": {}
      },
      "source": [
        ""
      ],
      "execution_count": null,
      "outputs": []
    },
    {
      "cell_type": "code",
      "metadata": {
        "id": "4-Kt_MW5NHkz",
        "colab_type": "code",
        "colab": {}
      },
      "source": [
        ""
      ],
      "execution_count": null,
      "outputs": []
    },
    {
      "cell_type": "code",
      "metadata": {
        "id": "PkTo9YrANHcj",
        "colab_type": "code",
        "colab": {}
      },
      "source": [
        ""
      ],
      "execution_count": null,
      "outputs": []
    },
    {
      "cell_type": "code",
      "metadata": {
        "id": "38dKLMY1NHUR",
        "colab_type": "code",
        "colab": {}
      },
      "source": [
        ""
      ],
      "execution_count": null,
      "outputs": []
    },
    {
      "cell_type": "code",
      "metadata": {
        "id": "kQ_F6gILNHM7",
        "colab_type": "code",
        "colab": {}
      },
      "source": [
        ""
      ],
      "execution_count": null,
      "outputs": []
    },
    {
      "cell_type": "code",
      "metadata": {
        "id": "pJkcvG76NHFZ",
        "colab_type": "code",
        "colab": {}
      },
      "source": [
        ""
      ],
      "execution_count": null,
      "outputs": []
    },
    {
      "cell_type": "code",
      "metadata": {
        "id": "4zjWVwlyNG-O",
        "colab_type": "code",
        "colab": {}
      },
      "source": [
        ""
      ],
      "execution_count": null,
      "outputs": []
    },
    {
      "cell_type": "code",
      "metadata": {
        "id": "UQUlSfHcNG2i",
        "colab_type": "code",
        "colab": {}
      },
      "source": [
        ""
      ],
      "execution_count": null,
      "outputs": []
    },
    {
      "cell_type": "code",
      "metadata": {
        "id": "Zc94NTBdNGve",
        "colab_type": "code",
        "colab": {}
      },
      "source": [
        ""
      ],
      "execution_count": null,
      "outputs": []
    },
    {
      "cell_type": "code",
      "metadata": {
        "id": "g3R0AyCcNGoZ",
        "colab_type": "code",
        "colab": {}
      },
      "source": [
        ""
      ],
      "execution_count": null,
      "outputs": []
    },
    {
      "cell_type": "code",
      "metadata": {
        "id": "s6S1GNVtNGfh",
        "colab_type": "code",
        "colab": {}
      },
      "source": [
        ""
      ],
      "execution_count": null,
      "outputs": []
    },
    {
      "cell_type": "code",
      "metadata": {
        "id": "Y_UdIb3pNGX5",
        "colab_type": "code",
        "colab": {}
      },
      "source": [
        ""
      ],
      "execution_count": null,
      "outputs": []
    },
    {
      "cell_type": "code",
      "metadata": {
        "id": "ijv_U7GsNGQS",
        "colab_type": "code",
        "colab": {}
      },
      "source": [
        ""
      ],
      "execution_count": null,
      "outputs": []
    },
    {
      "cell_type": "code",
      "metadata": {
        "id": "C_jpF1kfAkIU",
        "colab_type": "code",
        "colab": {}
      },
      "source": [
        ""
      ],
      "execution_count": null,
      "outputs": []
    },
    {
      "cell_type": "code",
      "metadata": {
        "id": "zL4l-5d5Aj9E",
        "colab_type": "code",
        "colab": {}
      },
      "source": [
        ""
      ],
      "execution_count": null,
      "outputs": []
    },
    {
      "cell_type": "code",
      "metadata": {
        "id": "m7tyWTTFn426",
        "colab_type": "code",
        "colab": {}
      },
      "source": [
        ""
      ],
      "execution_count": 41,
      "outputs": []
    },
    {
      "cell_type": "code",
      "metadata": {
        "id": "ENnVPVIGn4u5",
        "colab_type": "code",
        "colab": {}
      },
      "source": [
        ""
      ],
      "execution_count": 42,
      "outputs": []
    },
    {
      "cell_type": "code",
      "metadata": {
        "id": "zqsdnOi1n4nH",
        "colab_type": "code",
        "colab": {}
      },
      "source": [
        "import glob\n",
        "\n",
        "dir = '/content/gdrive/My Drive/oregon_wildlife'\n",
        "\n",
        "files = [f for f in glob.glob(dir + \"**/**\", recursive=True)]"
      ],
      "execution_count": 43,
      "outputs": []
    },
    {
      "cell_type": "code",
      "metadata": {
        "id": "rSBkm5bhn4e_",
        "colab_type": "code",
        "colab": {}
      },
      "source": [
        "df_animals = pd.DataFrame({\"file_path\":files}) "
      ],
      "execution_count": 44,
      "outputs": []
    },
    {
      "cell_type": "code",
      "metadata": {
        "id": "5zk0aWrkreZ4",
        "colab_type": "code",
        "colab": {}
      },
      "source": [
        "df_animals['animal'] = df_animals['file_path'].str.extract('/oregon_wildlife/(.+)/')\n",
        "df_animals['file'] = df_animals['file_path'].str.extract('oregon_wildlife/.+/(.+)')\n",
        "df_animals = df_animals.dropna()"
      ],
      "execution_count": 45,
      "outputs": []
    },
    {
      "cell_type": "code",
      "metadata": {
        "id": "sd9nwF0dwEZk",
        "colab_type": "code",
        "colab": {}
      },
      "source": [
        "lb_make = LabelEncoder()\n",
        "df_animals[\"animal\"] = lb_make.fit_transform(df_animals[\"animal\"])"
      ],
      "execution_count": 46,
      "outputs": []
    },
    {
      "cell_type": "code",
      "metadata": {
        "id": "43xiN2LSn4XV",
        "colab_type": "code",
        "colab": {}
      },
      "source": [
        "count_animals = df_animals.animal.value_counts().to_frame().reset_index()"
      ],
      "execution_count": 47,
      "outputs": []
    },
    {
      "cell_type": "code",
      "metadata": {
        "id": "EbyhSlgAn4PY",
        "colab_type": "code",
        "colab": {}
      },
      "source": [
        "count_animals['count_train'] = round(count_animals['animal'] * 0.7, 0)  \n",
        "count_animals['count_validation'] = round(count_animals['animal'] * 0.15, 0)\n",
        "count_animals['count_test'] =count_animals['animal'] - count_animals['count_train'] - count_animals['count_validation']"
      ],
      "execution_count": 48,
      "outputs": []
    },
    {
      "cell_type": "code",
      "metadata": {
        "id": "Xao9g_B_xkzG",
        "colab_type": "code",
        "colab": {}
      },
      "source": [
        "animal_set = set(df_animals['animal'])"
      ],
      "execution_count": 49,
      "outputs": []
    },
    {
      "cell_type": "code",
      "metadata": {
        "id": "R45Gil7exwkg",
        "colab_type": "code",
        "colab": {}
      },
      "source": [
        "animal_set = set(df_animals['animal'])\n",
        "train_val_test_list = [0,1,2]\n",
        "train_val_weights = [70,15,15]\n",
        "df_animals['train_val_test'] = 'NA' \n",
        "\n",
        "for an in animal_set:\n",
        "  n = sum(df_animals['animal'] == an)\n",
        "  train_val_test = random.choices(train_val_test_list, weights= train_val_weights,  k=n)\n",
        "  df_animals.loc[df_animals['animal'] == an, 'train_val_test'] = train_val_test "
      ],
      "execution_count": 50,
      "outputs": []
    },
    {
      "cell_type": "code",
      "metadata": {
        "id": "bKiqnuvA_QOK",
        "colab_type": "code",
        "colab": {}
      },
      "source": [
        "c = df_animals[df_animals['train_val_test'] == 0]\n",
        "df_animals_val = df_animals[df_animals['train_val_test'] == 1]\n",
        "df_animals_test = df_animals[df_animals['train_val_test'] == 2]\n"
      ],
      "execution_count": 51,
      "outputs": []
    },
    {
      "cell_type": "code",
      "metadata": {
        "id": "e2FNMarexwSL",
        "colab_type": "code",
        "colab": {}
      },
      "source": [
        "df_animals_train.to_csv('/content/gdrive/My Drive/oregon_wildlife/animals_train.csv', index=False)\n",
        "df_animals_val.to_csv('/content/gdrive/My Drive/oregon_wildlife/animals_val.csv', index=False)\n",
        "df_animals_test.to_csv('/content/gdrive/My Drive/oregon_wildlife/animals_test.csv', index=False)"
      ],
      "execution_count": 52,
      "outputs": []
    },
    {
      "cell_type": "code",
      "metadata": {
        "id": "fT4JbzSpn3wr",
        "colab_type": "code",
        "colab": {}
      },
      "source": [
        "train_dataset = OregonAnimalsDataset(\n",
        "    csv_file=\"/content/gdrive/My Drive/oregon_wildlife/animals_train.csv\",\n",
        "    root_dir=\"/content/gdrive/My Drive/oregon_wildlife/\",\n",
        "    transform=transform['train'],\n",
        ")\n",
        "\n",
        "val_dataset = OregonAnimalsDataset(\n",
        "    csv_file=\"/content/gdrive/My Drive/oregon_wildlife/animals_val.csv\",\n",
        "    root_dir=\"/content/gdrive/My Drive/oregon_wildlife/\",\n",
        "    transform=transform['valid'],\n",
        ")\n",
        "\n",
        "test_dataset = OregonAnimalsDataset(\n",
        "    csv_file=\"/content/gdrive/My Drive/oregon_wildlife/animals_test.csv\",\n",
        "    root_dir=\"/content/gdrive/My Drive/oregon_wildlife/\",\n",
        "    transform=transform['test'],\n",
        ")\n"
      ],
      "execution_count": 53,
      "outputs": []
    },
    {
      "cell_type": "code",
      "metadata": {
        "id": "HefejHUelfa8",
        "colab_type": "code",
        "colab": {}
      },
      "source": [
        "transform = {\n",
        "    'train': transforms.Compose([\n",
        "        transforms.RandomResizedCrop(224),\n",
        "        transforms.RandomHorizontalFlip(),\n",
        "        transforms.RandomRotation(10),\n",
        "        transforms.ToTensor(),\n",
        "        transforms.Normalize(mean=[0.485, 0.456, 0.406], std=[0.229, 0.224, 0.225])\n",
        "    ]),\n",
        "    'valid': transforms.Compose([\n",
        "        transforms.Resize(256),\n",
        "        transforms.CenterCrop(224),\n",
        "        transforms.ToTensor(),\n",
        "        transforms.Normalize(mean=[0.485, 0.456, 0.406], std=[0.229, 0.224, 0.225])\n",
        "    ]),\n",
        "    'test': transforms.Compose([\n",
        "        transforms.Resize(256),\n",
        "        transforms.CenterCrop(224),\n",
        "        transforms.ToTensor(),\n",
        "        transforms.Normalize(mean=[0.485, 0.456, 0.406], std=[0.229, 0.224, 0.225])\n",
        "    ]),    \n",
        "}\n"
      ],
      "execution_count": 54,
      "outputs": []
    },
    {
      "cell_type": "code",
      "metadata": {
        "id": "ISeF9xmHC-Gu",
        "colab_type": "code",
        "colab": {}
      },
      "source": [
        "num_workers = 0\n",
        "batch_size = 20"
      ],
      "execution_count": 55,
      "outputs": []
    },
    {
      "cell_type": "code",
      "metadata": {
        "id": "-4LWM31O7XMP",
        "colab_type": "code",
        "colab": {}
      },
      "source": [
        "num_workers = 0\n",
        "batch_size = 20\n",
        "\n",
        "loaders_scratch = {\n",
        "    'train' : DataLoader(train_dataset, shuffle = True, batch_size = batch_size),\n",
        "    'valid' : DataLoader(val_dataset, shuffle = True, batch_size = batch_size),\n",
        "    'test' : DataLoader(test_dataset, shuffle = True, batch_size = batch_size)    \n",
        "}"
      ],
      "execution_count": 56,
      "outputs": []
    },
    {
      "cell_type": "code",
      "metadata": {
        "id": "zgSOliBn741k",
        "colab_type": "code",
        "colab": {}
      },
      "source": [
        ""
      ],
      "execution_count": 56,
      "outputs": []
    },
    {
      "cell_type": "code",
      "metadata": {
        "id": "_e4G7LeW74xd",
        "colab_type": "code",
        "colab": {}
      },
      "source": [
        "def check_image(path):\n",
        "  \n",
        "  # print(path)\n",
        "  # return df_animals[df_animals['file_path'] == path].train_val_test\n",
        "  return (df_animals[df_animals['file_path'] == path].train_val_test == 0).bool\n",
        "  \n"
      ],
      "execution_count": 87,
      "outputs": []
    },
    {
      "cell_type": "code",
      "metadata": {
        "id": "VW133lliilhs",
        "colab_type": "code",
        "colab": {}
      },
      "source": [
        "train_data = torchvision.datasets.ImageFolder(root=\"/content/gdrive/My Drive/oregon_wildlife/\", transform=transform['train'], is_valid_file=check_image)\n",
        "val_data = torchvision.datasets.ImageFolder(root=\"/content/gdrive/My Drive/oregon_wildlife/\", transform=transform['train'], is_valid_file=check_image)\n",
        "test_data = torchvision.datasets.ImageFolder(root=\"/content/gdrive/My Drive/oregon_wildlife/\", transform=transform['train'], is_valid_file=check_image)\n",
        "\n"
      ],
      "execution_count": 88,
      "outputs": []
    },
    {
      "cell_type": "code",
      "metadata": {
        "id": "AURpQvTFilfd",
        "colab_type": "code",
        "colab": {}
      },
      "source": [
        "train_loader = DataLoader(train_data, shuffle = True, batch_size = batch_size)"
      ],
      "execution_count": 89,
      "outputs": []
    },
    {
      "cell_type": "code",
      "metadata": {
        "id": "rLwNZVCeildR",
        "colab_type": "code",
        "colab": {
          "base_uri": "https://localhost:8080/",
          "height": 647
        },
        "outputId": "063e920b-881b-49b4-8939-a72a0f27f9f8"
      },
      "source": [
        "for batch_idx, (data, target) in enumerate(train_loader):\n",
        "  print(target)\n"
      ],
      "execution_count": 91,
      "outputs": [
        {
          "output_type": "stream",
          "text": [
            "/usr/local/lib/python3.6/dist-packages/PIL/Image.py:932: UserWarning: Palette images with Transparency expressed in bytes should be converted to RGBA images\n",
            "  \"Palette images with Transparency expressed in bytes should be \"\n"
          ],
          "name": "stderr"
        },
        {
          "output_type": "stream",
          "text": [
            "tensor([15,  6, 15, 14, 15,  0, 12, 18, 15,  7,  2,  7, 16, 12, 12,  1,  8, 14,\n",
            "        10,  8])\n",
            "tensor([ 9, 17, 10, 10,  4,  2, 11, 16, 11,  6, 10,  3, 14, 10,  6,  1, 14,  0,\n",
            "        15,  7])\n",
            "tensor([18,  9,  0,  0,  2,  3,  8,  7,  8, 15, 17, 17,  8, 11, 15,  9, 14,  7,\n",
            "        13, 19])\n",
            "tensor([15, 19,  1,  7, 19, 18,  8,  3,  0,  2, 12,  4,  5,  9,  3,  7, 15,  4,\n",
            "        11,  4])\n",
            "tensor([10, 12,  7,  4,  8, 17, 11,  7,  4, 17, 18,  9, 17,  9,  0,  5,  9, 14,\n",
            "        13,  8])\n",
            "tensor([ 2,  8, 16,  1, 19,  1,  4,  7, 15,  7,  3,  4,  0,  7, 19,  8, 15,  7,\n",
            "        11,  8])\n",
            "tensor([15,  7, 11,  6, 15, 10,  7, 11,  0, 16,  7, 16,  2, 17,  1,  2,  1,  0,\n",
            "        16,  8])\n"
          ],
          "name": "stdout"
        },
        {
          "output_type": "error",
          "ename": "KeyboardInterrupt",
          "evalue": "ignored",
          "traceback": [
            "\u001b[0;31m---------------------------------------------------------------------------\u001b[0m",
            "\u001b[0;31mKeyboardInterrupt\u001b[0m                         Traceback (most recent call last)",
            "\u001b[0;32m<ipython-input-91-f71452b8b86b>\u001b[0m in \u001b[0;36m<module>\u001b[0;34m()\u001b[0m\n\u001b[0;32m----> 1\u001b[0;31m \u001b[0;32mfor\u001b[0m \u001b[0mbatch_idx\u001b[0m\u001b[0;34m,\u001b[0m \u001b[0;34m(\u001b[0m\u001b[0mdata\u001b[0m\u001b[0;34m,\u001b[0m \u001b[0mtarget\u001b[0m\u001b[0;34m)\u001b[0m \u001b[0;32min\u001b[0m \u001b[0menumerate\u001b[0m\u001b[0;34m(\u001b[0m\u001b[0mtrain_loader\u001b[0m\u001b[0;34m)\u001b[0m\u001b[0;34m:\u001b[0m\u001b[0;34m\u001b[0m\u001b[0;34m\u001b[0m\u001b[0m\n\u001b[0m\u001b[1;32m      2\u001b[0m   \u001b[0mprint\u001b[0m\u001b[0;34m(\u001b[0m\u001b[0mtarget\u001b[0m\u001b[0;34m)\u001b[0m\u001b[0;34m\u001b[0m\u001b[0;34m\u001b[0m\u001b[0m\n",
            "\u001b[0;32m/usr/local/lib/python3.6/dist-packages/torch/utils/data/dataloader.py\u001b[0m in \u001b[0;36m__next__\u001b[0;34m(self)\u001b[0m\n\u001b[1;32m    343\u001b[0m \u001b[0;34m\u001b[0m\u001b[0m\n\u001b[1;32m    344\u001b[0m     \u001b[0;32mdef\u001b[0m \u001b[0m__next__\u001b[0m\u001b[0;34m(\u001b[0m\u001b[0mself\u001b[0m\u001b[0;34m)\u001b[0m\u001b[0;34m:\u001b[0m\u001b[0;34m\u001b[0m\u001b[0;34m\u001b[0m\u001b[0m\n\u001b[0;32m--> 345\u001b[0;31m         \u001b[0mdata\u001b[0m \u001b[0;34m=\u001b[0m \u001b[0mself\u001b[0m\u001b[0;34m.\u001b[0m\u001b[0m_next_data\u001b[0m\u001b[0;34m(\u001b[0m\u001b[0;34m)\u001b[0m\u001b[0;34m\u001b[0m\u001b[0;34m\u001b[0m\u001b[0m\n\u001b[0m\u001b[1;32m    346\u001b[0m         \u001b[0mself\u001b[0m\u001b[0;34m.\u001b[0m\u001b[0m_num_yielded\u001b[0m \u001b[0;34m+=\u001b[0m \u001b[0;36m1\u001b[0m\u001b[0;34m\u001b[0m\u001b[0;34m\u001b[0m\u001b[0m\n\u001b[1;32m    347\u001b[0m         \u001b[0;32mif\u001b[0m \u001b[0mself\u001b[0m\u001b[0;34m.\u001b[0m\u001b[0m_dataset_kind\u001b[0m \u001b[0;34m==\u001b[0m \u001b[0m_DatasetKind\u001b[0m\u001b[0;34m.\u001b[0m\u001b[0mIterable\u001b[0m \u001b[0;32mand\u001b[0m\u001b[0;31m \u001b[0m\u001b[0;31m\\\u001b[0m\u001b[0;34m\u001b[0m\u001b[0;34m\u001b[0m\u001b[0m\n",
            "\u001b[0;32m/usr/local/lib/python3.6/dist-packages/torch/utils/data/dataloader.py\u001b[0m in \u001b[0;36m_next_data\u001b[0;34m(self)\u001b[0m\n\u001b[1;32m    383\u001b[0m     \u001b[0;32mdef\u001b[0m \u001b[0m_next_data\u001b[0m\u001b[0;34m(\u001b[0m\u001b[0mself\u001b[0m\u001b[0;34m)\u001b[0m\u001b[0;34m:\u001b[0m\u001b[0;34m\u001b[0m\u001b[0;34m\u001b[0m\u001b[0m\n\u001b[1;32m    384\u001b[0m         \u001b[0mindex\u001b[0m \u001b[0;34m=\u001b[0m \u001b[0mself\u001b[0m\u001b[0;34m.\u001b[0m\u001b[0m_next_index\u001b[0m\u001b[0;34m(\u001b[0m\u001b[0;34m)\u001b[0m  \u001b[0;31m# may raise StopIteration\u001b[0m\u001b[0;34m\u001b[0m\u001b[0;34m\u001b[0m\u001b[0m\n\u001b[0;32m--> 385\u001b[0;31m         \u001b[0mdata\u001b[0m \u001b[0;34m=\u001b[0m \u001b[0mself\u001b[0m\u001b[0;34m.\u001b[0m\u001b[0m_dataset_fetcher\u001b[0m\u001b[0;34m.\u001b[0m\u001b[0mfetch\u001b[0m\u001b[0;34m(\u001b[0m\u001b[0mindex\u001b[0m\u001b[0;34m)\u001b[0m  \u001b[0;31m# may raise StopIteration\u001b[0m\u001b[0;34m\u001b[0m\u001b[0;34m\u001b[0m\u001b[0m\n\u001b[0m\u001b[1;32m    386\u001b[0m         \u001b[0;32mif\u001b[0m \u001b[0mself\u001b[0m\u001b[0;34m.\u001b[0m\u001b[0m_pin_memory\u001b[0m\u001b[0;34m:\u001b[0m\u001b[0;34m\u001b[0m\u001b[0;34m\u001b[0m\u001b[0m\n\u001b[1;32m    387\u001b[0m             \u001b[0mdata\u001b[0m \u001b[0;34m=\u001b[0m \u001b[0m_utils\u001b[0m\u001b[0;34m.\u001b[0m\u001b[0mpin_memory\u001b[0m\u001b[0;34m.\u001b[0m\u001b[0mpin_memory\u001b[0m\u001b[0;34m(\u001b[0m\u001b[0mdata\u001b[0m\u001b[0;34m)\u001b[0m\u001b[0;34m\u001b[0m\u001b[0;34m\u001b[0m\u001b[0m\n",
            "\u001b[0;32m/usr/local/lib/python3.6/dist-packages/torch/utils/data/_utils/fetch.py\u001b[0m in \u001b[0;36mfetch\u001b[0;34m(self, possibly_batched_index)\u001b[0m\n\u001b[1;32m     42\u001b[0m     \u001b[0;32mdef\u001b[0m \u001b[0mfetch\u001b[0m\u001b[0;34m(\u001b[0m\u001b[0mself\u001b[0m\u001b[0;34m,\u001b[0m \u001b[0mpossibly_batched_index\u001b[0m\u001b[0;34m)\u001b[0m\u001b[0;34m:\u001b[0m\u001b[0;34m\u001b[0m\u001b[0;34m\u001b[0m\u001b[0m\n\u001b[1;32m     43\u001b[0m         \u001b[0;32mif\u001b[0m \u001b[0mself\u001b[0m\u001b[0;34m.\u001b[0m\u001b[0mauto_collation\u001b[0m\u001b[0;34m:\u001b[0m\u001b[0;34m\u001b[0m\u001b[0;34m\u001b[0m\u001b[0m\n\u001b[0;32m---> 44\u001b[0;31m             \u001b[0mdata\u001b[0m \u001b[0;34m=\u001b[0m \u001b[0;34m[\u001b[0m\u001b[0mself\u001b[0m\u001b[0;34m.\u001b[0m\u001b[0mdataset\u001b[0m\u001b[0;34m[\u001b[0m\u001b[0midx\u001b[0m\u001b[0;34m]\u001b[0m \u001b[0;32mfor\u001b[0m \u001b[0midx\u001b[0m \u001b[0;32min\u001b[0m \u001b[0mpossibly_batched_index\u001b[0m\u001b[0;34m]\u001b[0m\u001b[0;34m\u001b[0m\u001b[0;34m\u001b[0m\u001b[0m\n\u001b[0m\u001b[1;32m     45\u001b[0m         \u001b[0;32melse\u001b[0m\u001b[0;34m:\u001b[0m\u001b[0;34m\u001b[0m\u001b[0;34m\u001b[0m\u001b[0m\n\u001b[1;32m     46\u001b[0m             \u001b[0mdata\u001b[0m \u001b[0;34m=\u001b[0m \u001b[0mself\u001b[0m\u001b[0;34m.\u001b[0m\u001b[0mdataset\u001b[0m\u001b[0;34m[\u001b[0m\u001b[0mpossibly_batched_index\u001b[0m\u001b[0;34m]\u001b[0m\u001b[0;34m\u001b[0m\u001b[0;34m\u001b[0m\u001b[0m\n",
            "\u001b[0;32m/usr/local/lib/python3.6/dist-packages/torch/utils/data/_utils/fetch.py\u001b[0m in \u001b[0;36m<listcomp>\u001b[0;34m(.0)\u001b[0m\n\u001b[1;32m     42\u001b[0m     \u001b[0;32mdef\u001b[0m \u001b[0mfetch\u001b[0m\u001b[0;34m(\u001b[0m\u001b[0mself\u001b[0m\u001b[0;34m,\u001b[0m \u001b[0mpossibly_batched_index\u001b[0m\u001b[0;34m)\u001b[0m\u001b[0;34m:\u001b[0m\u001b[0;34m\u001b[0m\u001b[0;34m\u001b[0m\u001b[0m\n\u001b[1;32m     43\u001b[0m         \u001b[0;32mif\u001b[0m \u001b[0mself\u001b[0m\u001b[0;34m.\u001b[0m\u001b[0mauto_collation\u001b[0m\u001b[0;34m:\u001b[0m\u001b[0;34m\u001b[0m\u001b[0;34m\u001b[0m\u001b[0m\n\u001b[0;32m---> 44\u001b[0;31m             \u001b[0mdata\u001b[0m \u001b[0;34m=\u001b[0m \u001b[0;34m[\u001b[0m\u001b[0mself\u001b[0m\u001b[0;34m.\u001b[0m\u001b[0mdataset\u001b[0m\u001b[0;34m[\u001b[0m\u001b[0midx\u001b[0m\u001b[0;34m]\u001b[0m \u001b[0;32mfor\u001b[0m \u001b[0midx\u001b[0m \u001b[0;32min\u001b[0m \u001b[0mpossibly_batched_index\u001b[0m\u001b[0;34m]\u001b[0m\u001b[0;34m\u001b[0m\u001b[0;34m\u001b[0m\u001b[0m\n\u001b[0m\u001b[1;32m     45\u001b[0m         \u001b[0;32melse\u001b[0m\u001b[0;34m:\u001b[0m\u001b[0;34m\u001b[0m\u001b[0;34m\u001b[0m\u001b[0m\n\u001b[1;32m     46\u001b[0m             \u001b[0mdata\u001b[0m \u001b[0;34m=\u001b[0m \u001b[0mself\u001b[0m\u001b[0;34m.\u001b[0m\u001b[0mdataset\u001b[0m\u001b[0;34m[\u001b[0m\u001b[0mpossibly_batched_index\u001b[0m\u001b[0;34m]\u001b[0m\u001b[0;34m\u001b[0m\u001b[0;34m\u001b[0m\u001b[0m\n",
            "\u001b[0;32m/usr/local/lib/python3.6/dist-packages/torchvision/datasets/folder.py\u001b[0m in \u001b[0;36m__getitem__\u001b[0;34m(self, index)\u001b[0m\n\u001b[1;32m    133\u001b[0m         \"\"\"\n\u001b[1;32m    134\u001b[0m         \u001b[0mpath\u001b[0m\u001b[0;34m,\u001b[0m \u001b[0mtarget\u001b[0m \u001b[0;34m=\u001b[0m \u001b[0mself\u001b[0m\u001b[0;34m.\u001b[0m\u001b[0msamples\u001b[0m\u001b[0;34m[\u001b[0m\u001b[0mindex\u001b[0m\u001b[0;34m]\u001b[0m\u001b[0;34m\u001b[0m\u001b[0;34m\u001b[0m\u001b[0m\n\u001b[0;32m--> 135\u001b[0;31m         \u001b[0msample\u001b[0m \u001b[0;34m=\u001b[0m \u001b[0mself\u001b[0m\u001b[0;34m.\u001b[0m\u001b[0mloader\u001b[0m\u001b[0;34m(\u001b[0m\u001b[0mpath\u001b[0m\u001b[0;34m)\u001b[0m\u001b[0;34m\u001b[0m\u001b[0;34m\u001b[0m\u001b[0m\n\u001b[0m\u001b[1;32m    136\u001b[0m         \u001b[0;32mif\u001b[0m \u001b[0mself\u001b[0m\u001b[0;34m.\u001b[0m\u001b[0mtransform\u001b[0m \u001b[0;32mis\u001b[0m \u001b[0;32mnot\u001b[0m \u001b[0;32mNone\u001b[0m\u001b[0;34m:\u001b[0m\u001b[0;34m\u001b[0m\u001b[0;34m\u001b[0m\u001b[0m\n\u001b[1;32m    137\u001b[0m             \u001b[0msample\u001b[0m \u001b[0;34m=\u001b[0m \u001b[0mself\u001b[0m\u001b[0;34m.\u001b[0m\u001b[0mtransform\u001b[0m\u001b[0;34m(\u001b[0m\u001b[0msample\u001b[0m\u001b[0;34m)\u001b[0m\u001b[0;34m\u001b[0m\u001b[0;34m\u001b[0m\u001b[0m\n",
            "\u001b[0;32m/usr/local/lib/python3.6/dist-packages/torchvision/datasets/folder.py\u001b[0m in \u001b[0;36mdefault_loader\u001b[0;34m(path)\u001b[0m\n\u001b[1;32m    169\u001b[0m         \u001b[0;32mreturn\u001b[0m \u001b[0maccimage_loader\u001b[0m\u001b[0;34m(\u001b[0m\u001b[0mpath\u001b[0m\u001b[0;34m)\u001b[0m\u001b[0;34m\u001b[0m\u001b[0;34m\u001b[0m\u001b[0m\n\u001b[1;32m    170\u001b[0m     \u001b[0;32melse\u001b[0m\u001b[0;34m:\u001b[0m\u001b[0;34m\u001b[0m\u001b[0;34m\u001b[0m\u001b[0m\n\u001b[0;32m--> 171\u001b[0;31m         \u001b[0;32mreturn\u001b[0m \u001b[0mpil_loader\u001b[0m\u001b[0;34m(\u001b[0m\u001b[0mpath\u001b[0m\u001b[0;34m)\u001b[0m\u001b[0;34m\u001b[0m\u001b[0;34m\u001b[0m\u001b[0m\n\u001b[0m\u001b[1;32m    172\u001b[0m \u001b[0;34m\u001b[0m\u001b[0m\n\u001b[1;32m    173\u001b[0m \u001b[0;34m\u001b[0m\u001b[0m\n",
            "\u001b[0;32m/usr/local/lib/python3.6/dist-packages/torchvision/datasets/folder.py\u001b[0m in \u001b[0;36mpil_loader\u001b[0;34m(path)\u001b[0m\n\u001b[1;32m    151\u001b[0m     \u001b[0;31m# open path as file to avoid ResourceWarning (https://github.com/python-pillow/Pillow/issues/835)\u001b[0m\u001b[0;34m\u001b[0m\u001b[0;34m\u001b[0m\u001b[0;34m\u001b[0m\u001b[0m\n\u001b[1;32m    152\u001b[0m     \u001b[0;32mwith\u001b[0m \u001b[0mopen\u001b[0m\u001b[0;34m(\u001b[0m\u001b[0mpath\u001b[0m\u001b[0;34m,\u001b[0m \u001b[0;34m'rb'\u001b[0m\u001b[0;34m)\u001b[0m \u001b[0;32mas\u001b[0m \u001b[0mf\u001b[0m\u001b[0;34m:\u001b[0m\u001b[0;34m\u001b[0m\u001b[0;34m\u001b[0m\u001b[0m\n\u001b[0;32m--> 153\u001b[0;31m         \u001b[0mimg\u001b[0m \u001b[0;34m=\u001b[0m \u001b[0mImage\u001b[0m\u001b[0;34m.\u001b[0m\u001b[0mopen\u001b[0m\u001b[0;34m(\u001b[0m\u001b[0mf\u001b[0m\u001b[0;34m)\u001b[0m\u001b[0;34m\u001b[0m\u001b[0;34m\u001b[0m\u001b[0m\n\u001b[0m\u001b[1;32m    154\u001b[0m         \u001b[0;32mreturn\u001b[0m \u001b[0mimg\u001b[0m\u001b[0;34m.\u001b[0m\u001b[0mconvert\u001b[0m\u001b[0;34m(\u001b[0m\u001b[0;34m'RGB'\u001b[0m\u001b[0;34m)\u001b[0m\u001b[0;34m\u001b[0m\u001b[0;34m\u001b[0m\u001b[0m\n\u001b[1;32m    155\u001b[0m \u001b[0;34m\u001b[0m\u001b[0m\n",
            "\u001b[0;32m/usr/local/lib/python3.6/dist-packages/PIL/Image.py\u001b[0m in \u001b[0;36mopen\u001b[0;34m(fp, mode)\u001b[0m\n\u001b[1;32m   2816\u001b[0m         \u001b[0mexclusive_fp\u001b[0m \u001b[0;34m=\u001b[0m \u001b[0;32mTrue\u001b[0m\u001b[0;34m\u001b[0m\u001b[0;34m\u001b[0m\u001b[0m\n\u001b[1;32m   2817\u001b[0m \u001b[0;34m\u001b[0m\u001b[0m\n\u001b[0;32m-> 2818\u001b[0;31m     \u001b[0mprefix\u001b[0m \u001b[0;34m=\u001b[0m \u001b[0mfp\u001b[0m\u001b[0;34m.\u001b[0m\u001b[0mread\u001b[0m\u001b[0;34m(\u001b[0m\u001b[0;36m16\u001b[0m\u001b[0;34m)\u001b[0m\u001b[0;34m\u001b[0m\u001b[0;34m\u001b[0m\u001b[0m\n\u001b[0m\u001b[1;32m   2819\u001b[0m \u001b[0;34m\u001b[0m\u001b[0m\n\u001b[1;32m   2820\u001b[0m     \u001b[0mpreinit\u001b[0m\u001b[0;34m(\u001b[0m\u001b[0;34m)\u001b[0m\u001b[0;34m\u001b[0m\u001b[0;34m\u001b[0m\u001b[0m\n",
            "\u001b[0;31mKeyboardInterrupt\u001b[0m: "
          ]
        }
      ]
    },
    {
      "cell_type": "code",
      "metadata": {
        "id": "C8MBYnXnLkbw",
        "colab_type": "code",
        "colab": {}
      },
      "source": [
        ""
      ],
      "execution_count": null,
      "outputs": []
    },
    {
      "cell_type": "code",
      "metadata": {
        "id": "oQHGj-YmLkRA",
        "colab_type": "code",
        "colab": {}
      },
      "source": [
        ""
      ],
      "execution_count": null,
      "outputs": []
    },
    {
      "cell_type": "code",
      "metadata": {
        "id": "MoKCh21xLkE8",
        "colab_type": "code",
        "colab": {}
      },
      "source": [
        ""
      ],
      "execution_count": null,
      "outputs": []
    },
    {
      "cell_type": "code",
      "metadata": {
        "id": "7q67-BQhLj6X",
        "colab_type": "code",
        "colab": {}
      },
      "source": [
        ""
      ],
      "execution_count": null,
      "outputs": []
    },
    {
      "cell_type": "code",
      "metadata": {
        "id": "ZjzcS4HzK6QD",
        "colab_type": "code",
        "colab": {}
      },
      "source": [
        ""
      ],
      "execution_count": null,
      "outputs": []
    },
    {
      "cell_type": "code",
      "metadata": {
        "id": "bnZvLb2aK6GA",
        "colab_type": "code",
        "colab": {}
      },
      "source": [
        ""
      ],
      "execution_count": null,
      "outputs": []
    },
    {
      "cell_type": "code",
      "metadata": {
        "id": "dTid-HDAK57w",
        "colab_type": "code",
        "colab": {}
      },
      "source": [
        ""
      ],
      "execution_count": null,
      "outputs": []
    },
    {
      "cell_type": "code",
      "metadata": {
        "id": "2eRYWHYIK5xq",
        "colab_type": "code",
        "colab": {}
      },
      "source": [
        ""
      ],
      "execution_count": null,
      "outputs": []
    },
    {
      "cell_type": "code",
      "metadata": {
        "id": "uOysLz2aK5na",
        "colab_type": "code",
        "colab": {}
      },
      "source": [
        ""
      ],
      "execution_count": null,
      "outputs": []
    },
    {
      "cell_type": "code",
      "metadata": {
        "id": "rum0Bmd4K5cg",
        "colab_type": "code",
        "colab": {}
      },
      "source": [
        ""
      ],
      "execution_count": null,
      "outputs": []
    },
    {
      "cell_type": "code",
      "metadata": {
        "id": "wouIwUvSK5ST",
        "colab_type": "code",
        "colab": {}
      },
      "source": [
        ""
      ],
      "execution_count": null,
      "outputs": []
    },
    {
      "cell_type": "code",
      "metadata": {
        "id": "6QTI5Q4WK5Gc",
        "colab_type": "code",
        "colab": {}
      },
      "source": [
        ""
      ],
      "execution_count": null,
      "outputs": []
    },
    {
      "cell_type": "code",
      "metadata": {
        "id": "6z8XAyIjK46S",
        "colab_type": "code",
        "colab": {}
      },
      "source": [
        ""
      ],
      "execution_count": null,
      "outputs": []
    },
    {
      "cell_type": "code",
      "metadata": {
        "id": "FLItK_eFK4uj",
        "colab_type": "code",
        "colab": {}
      },
      "source": [
        ""
      ],
      "execution_count": null,
      "outputs": []
    },
    {
      "cell_type": "code",
      "metadata": {
        "id": "gm0oHWQrK4fv",
        "colab_type": "code",
        "colab": {}
      },
      "source": [
        ""
      ],
      "execution_count": null,
      "outputs": []
    },
    {
      "cell_type": "code",
      "metadata": {
        "id": "z_BS81yWK4S7",
        "colab_type": "code",
        "colab": {}
      },
      "source": [
        ""
      ],
      "execution_count": null,
      "outputs": []
    },
    {
      "cell_type": "code",
      "metadata": {
        "id": "ognkFybtK4HF",
        "colab_type": "code",
        "colab": {}
      },
      "source": [
        ""
      ],
      "execution_count": null,
      "outputs": []
    },
    {
      "cell_type": "code",
      "metadata": {
        "id": "mzkeuVX-K37u",
        "colab_type": "code",
        "colab": {}
      },
      "source": [
        ""
      ],
      "execution_count": null,
      "outputs": []
    },
    {
      "cell_type": "code",
      "metadata": {
        "id": "WqZKUEjJK3v4",
        "colab_type": "code",
        "colab": {}
      },
      "source": [
        ""
      ],
      "execution_count": null,
      "outputs": []
    },
    {
      "cell_type": "code",
      "metadata": {
        "id": "ACP4xvAkK3ji",
        "colab_type": "code",
        "colab": {}
      },
      "source": [
        ""
      ],
      "execution_count": null,
      "outputs": []
    },
    {
      "cell_type": "code",
      "metadata": {
        "id": "zWwxXUAHK3WZ",
        "colab_type": "code",
        "colab": {}
      },
      "source": [
        ""
      ],
      "execution_count": null,
      "outputs": []
    },
    {
      "cell_type": "code",
      "metadata": {
        "id": "F3AizMrO6ugo",
        "colab_type": "code",
        "colab": {}
      },
      "source": [
        ""
      ],
      "execution_count": null,
      "outputs": []
    },
    {
      "cell_type": "code",
      "metadata": {
        "id": "2klZCbP96udz",
        "colab_type": "code",
        "colab": {}
      },
      "source": [
        ""
      ],
      "execution_count": null,
      "outputs": []
    },
    {
      "cell_type": "code",
      "metadata": {
        "id": "kBnGuwmI6uas",
        "colab_type": "code",
        "colab": {}
      },
      "source": [
        ""
      ],
      "execution_count": null,
      "outputs": []
    },
    {
      "cell_type": "code",
      "metadata": {
        "id": "9gzuh-Kj6uXo",
        "colab_type": "code",
        "colab": {}
      },
      "source": [
        ""
      ],
      "execution_count": null,
      "outputs": []
    },
    {
      "cell_type": "code",
      "metadata": {
        "id": "SWPEwUp96uUZ",
        "colab_type": "code",
        "colab": {}
      },
      "source": [
        ""
      ],
      "execution_count": null,
      "outputs": []
    },
    {
      "cell_type": "code",
      "metadata": {
        "id": "t7aze9vJilXx",
        "colab_type": "code",
        "colab": {}
      },
      "source": [
        ""
      ],
      "execution_count": null,
      "outputs": []
    },
    {
      "cell_type": "code",
      "metadata": {
        "id": "PQgilEDCtrLq",
        "colab_type": "code",
        "colab": {}
      },
      "source": [
        ""
      ],
      "execution_count": null,
      "outputs": []
    },
    {
      "cell_type": "code",
      "metadata": {
        "id": "Ac7SxzIEs8H4",
        "colab_type": "code",
        "colab": {}
      },
      "source": [
        ""
      ],
      "execution_count": null,
      "outputs": []
    },
    {
      "cell_type": "code",
      "metadata": {
        "id": "UYQWncduWynZ",
        "colab_type": "code",
        "colab": {}
      },
      "source": [
        ""
      ],
      "execution_count": null,
      "outputs": []
    },
    {
      "cell_type": "code",
      "metadata": {
        "id": "zu50lVY_WyiI",
        "colab_type": "code",
        "colab": {}
      },
      "source": [
        ""
      ],
      "execution_count": null,
      "outputs": []
    },
    {
      "cell_type": "code",
      "metadata": {
        "id": "8hqQDlszWydB",
        "colab_type": "code",
        "colab": {}
      },
      "source": [
        ""
      ],
      "execution_count": null,
      "outputs": []
    },
    {
      "cell_type": "code",
      "metadata": {
        "id": "L3Ini9ydWyXV",
        "colab_type": "code",
        "colab": {}
      },
      "source": [
        ""
      ],
      "execution_count": null,
      "outputs": []
    },
    {
      "cell_type": "code",
      "metadata": {
        "id": "l-1qmL1XWyR6",
        "colab_type": "code",
        "colab": {}
      },
      "source": [
        ""
      ],
      "execution_count": null,
      "outputs": []
    },
    {
      "cell_type": "code",
      "metadata": {
        "id": "qoo8VcNYWyL4",
        "colab_type": "code",
        "colab": {}
      },
      "source": [
        ""
      ],
      "execution_count": null,
      "outputs": []
    },
    {
      "cell_type": "code",
      "metadata": {
        "id": "dNdvSbjZWyF5",
        "colab_type": "code",
        "colab": {}
      },
      "source": [
        ""
      ],
      "execution_count": null,
      "outputs": []
    },
    {
      "cell_type": "code",
      "metadata": {
        "id": "zF2vPomEWx_t",
        "colab_type": "code",
        "colab": {}
      },
      "source": [
        ""
      ],
      "execution_count": null,
      "outputs": []
    },
    {
      "cell_type": "code",
      "metadata": {
        "id": "UHWwEHQKQAbt",
        "colab_type": "code",
        "colab": {}
      },
      "source": [
        ""
      ],
      "execution_count": null,
      "outputs": []
    },
    {
      "cell_type": "code",
      "metadata": {
        "id": "VZ2YA5JJQAVq",
        "colab_type": "code",
        "colab": {}
      },
      "source": [
        ""
      ],
      "execution_count": null,
      "outputs": []
    },
    {
      "cell_type": "code",
      "metadata": {
        "id": "KK3ghdvOOiT5",
        "colab_type": "code",
        "colab": {}
      },
      "source": [
        ""
      ],
      "execution_count": null,
      "outputs": []
    },
    {
      "cell_type": "code",
      "metadata": {
        "id": "MQtk7j_sOiOD",
        "colab_type": "code",
        "colab": {}
      },
      "source": [
        ""
      ],
      "execution_count": null,
      "outputs": []
    },
    {
      "cell_type": "code",
      "metadata": {
        "id": "-zcIzPAwOiIY",
        "colab_type": "code",
        "colab": {}
      },
      "source": [
        ""
      ],
      "execution_count": null,
      "outputs": []
    },
    {
      "cell_type": "code",
      "metadata": {
        "id": "QJ6GyLoQMu2B",
        "colab_type": "code",
        "colab": {}
      },
      "source": [
        ""
      ],
      "execution_count": null,
      "outputs": []
    },
    {
      "cell_type": "code",
      "metadata": {
        "id": "g0p-XT99Muon",
        "colab_type": "code",
        "colab": {}
      },
      "source": [
        ""
      ],
      "execution_count": null,
      "outputs": []
    },
    {
      "cell_type": "code",
      "metadata": {
        "id": "zI-3kZ57MukS",
        "colab_type": "code",
        "colab": {}
      },
      "source": [
        ""
      ],
      "execution_count": null,
      "outputs": []
    },
    {
      "cell_type": "code",
      "metadata": {
        "id": "FDPQqhqfMuf_",
        "colab_type": "code",
        "colab": {}
      },
      "source": [
        ""
      ],
      "execution_count": null,
      "outputs": []
    },
    {
      "cell_type": "code",
      "metadata": {
        "id": "aT17NkpiMub_",
        "colab_type": "code",
        "colab": {}
      },
      "source": [
        ""
      ],
      "execution_count": null,
      "outputs": []
    },
    {
      "cell_type": "code",
      "metadata": {
        "id": "8Mfbi8TRMuX-",
        "colab_type": "code",
        "colab": {}
      },
      "source": [
        ""
      ],
      "execution_count": null,
      "outputs": []
    },
    {
      "cell_type": "code",
      "metadata": {
        "id": "0IUbR9IqMuTw",
        "colab_type": "code",
        "colab": {}
      },
      "source": [
        ""
      ],
      "execution_count": null,
      "outputs": []
    },
    {
      "cell_type": "code",
      "metadata": {
        "id": "62XpHv0WMuPs",
        "colab_type": "code",
        "colab": {}
      },
      "source": [
        ""
      ],
      "execution_count": null,
      "outputs": []
    },
    {
      "cell_type": "code",
      "metadata": {
        "id": "qrnA5tD7MuLW",
        "colab_type": "code",
        "colab": {}
      },
      "source": [
        ""
      ],
      "execution_count": null,
      "outputs": []
    },
    {
      "cell_type": "code",
      "metadata": {
        "id": "56xBFEfdMuG_",
        "colab_type": "code",
        "colab": {}
      },
      "source": [
        ""
      ],
      "execution_count": null,
      "outputs": []
    },
    {
      "cell_type": "code",
      "metadata": {
        "id": "b4dcBfgW6mQZ",
        "colab_type": "code",
        "colab": {}
      },
      "source": [
        ""
      ],
      "execution_count": null,
      "outputs": []
    },
    {
      "cell_type": "code",
      "metadata": {
        "id": "SO8SooJHKYXb",
        "colab_type": "code",
        "colab": {}
      },
      "source": [
        ""
      ],
      "execution_count": null,
      "outputs": []
    },
    {
      "cell_type": "code",
      "metadata": {
        "id": "cBStliyQKYT6",
        "colab_type": "code",
        "colab": {}
      },
      "source": [
        ""
      ],
      "execution_count": null,
      "outputs": []
    },
    {
      "cell_type": "code",
      "metadata": {
        "id": "VWVxsstiKYQV",
        "colab_type": "code",
        "colab": {}
      },
      "source": [
        ""
      ],
      "execution_count": null,
      "outputs": []
    },
    {
      "cell_type": "code",
      "metadata": {
        "id": "UyFwHhchYvml",
        "colab_type": "code",
        "colab": {}
      },
      "source": [
        ""
      ],
      "execution_count": null,
      "outputs": []
    },
    {
      "cell_type": "code",
      "metadata": {
        "id": "Koqw-FNZYvhL",
        "colab_type": "code",
        "colab": {}
      },
      "source": [
        ""
      ],
      "execution_count": null,
      "outputs": []
    },
    {
      "cell_type": "code",
      "metadata": {
        "id": "Sn3R8q-IYvea",
        "colab_type": "code",
        "colab": {}
      },
      "source": [
        ""
      ],
      "execution_count": null,
      "outputs": []
    },
    {
      "cell_type": "code",
      "metadata": {
        "id": "eibIqHNltrGi",
        "colab_type": "code",
        "colab": {}
      },
      "source": [
        ""
      ],
      "execution_count": null,
      "outputs": []
    },
    {
      "cell_type": "code",
      "metadata": {
        "id": "mCSCZEs1trCF",
        "colab_type": "code",
        "colab": {}
      },
      "source": [
        ""
      ],
      "execution_count": null,
      "outputs": []
    },
    {
      "cell_type": "code",
      "metadata": {
        "id": "VpN7NrYUtm8m",
        "colab_type": "code",
        "colab": {}
      },
      "source": [
        ""
      ],
      "execution_count": null,
      "outputs": []
    },
    {
      "cell_type": "code",
      "metadata": {
        "id": "-mIVkUKftm_m",
        "colab_type": "code",
        "colab": {}
      },
      "source": [
        ""
      ],
      "execution_count": null,
      "outputs": []
    },
    {
      "cell_type": "code",
      "metadata": {
        "id": "Rj_n5Cl2tnEW",
        "colab_type": "code",
        "colab": {}
      },
      "source": [
        ""
      ],
      "execution_count": null,
      "outputs": []
    },
    {
      "cell_type": "code",
      "metadata": {
        "id": "HXgYrx81tnCd",
        "colab_type": "code",
        "colab": {}
      },
      "source": [
        ""
      ],
      "execution_count": null,
      "outputs": []
    },
    {
      "cell_type": "code",
      "metadata": {
        "id": "AGkj05MxWv4I",
        "colab_type": "code",
        "colab": {}
      },
      "source": [
        ""
      ],
      "execution_count": null,
      "outputs": []
    },
    {
      "cell_type": "code",
      "metadata": {
        "id": "TOyeFShhWv90",
        "colab_type": "code",
        "colab": {}
      },
      "source": [
        ""
      ],
      "execution_count": null,
      "outputs": []
    },
    {
      "cell_type": "code",
      "metadata": {
        "id": "WKr4hleuWv1Q",
        "colab_type": "code",
        "colab": {}
      },
      "source": [
        ""
      ],
      "execution_count": null,
      "outputs": []
    },
    {
      "cell_type": "code",
      "metadata": {
        "id": "E4q_EmBgb3D2",
        "colab_type": "code",
        "colab": {}
      },
      "source": [
        ""
      ],
      "execution_count": null,
      "outputs": []
    },
    {
      "cell_type": "code",
      "metadata": {
        "id": "E-EI--Y2ZOsX",
        "colab_type": "code",
        "colab": {}
      },
      "source": [
        ""
      ],
      "execution_count": null,
      "outputs": []
    }
  ]
}